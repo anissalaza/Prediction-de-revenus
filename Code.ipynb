{
 "cells": [
  {
   "cell_type": "markdown",
   "metadata": {},
   "source": [
    "# Effectuer une prédiction de revenus"
   ]
  },
  {
   "cell_type": "markdown",
   "metadata": {},
   "source": [
    "Vous êtes employé dans une banque, présente dans de nombreux pays à travers le monde. Celle-ci souhaite cibler de nouveaux clients potentiels, plus particulièrement les jeunes en âge d'ouvrir leur tout premier compte bancaire.  \n",
    "Cependant, elle souhaite _cibler les prospects les plus susceptibles d'avoir, plus tard dans leur vie, de hauts revenus_.  \n",
    "L'équipe dans laquelle vous travaillez a donc reçu pour mission de créer un modèle permettant de déterminer le revenu potentiel d'une personne.  \n",
    "Très bien.  \n",
    "\"Quelles informations avons-nous ?\" demandez-vous à votre supérieur, qui vous répond : \"À vrai dire... quasiment aucune : uniquement le revenu des parents, car nous allons cibler les enfants de nos clients actuels, ainsi que le pays où ils habitent. C'est tout ! Ah oui, une dernière chose : ce modèle doit être valable pour la plupart des pays du monde. Je vous laisse méditer là-dessus… Bon courage !\"  \n",
    "Avec aussi peu de données disponibles, cela semble être un sacré challenge !  \n",
    "Ainsi, vous proposez une régression linéaire avec 3 variables :  \n",
    "* le revenu des parents ;\n",
    "* le revenu moyen du pays dans lequel habite le prospect ;\n",
    "* l'indice de Gini calculé sur les revenus des habitants du pays en question."
   ]
  },
  {
   "cell_type": "markdown",
   "metadata": {},
   "source": [
    "______________________"
   ]
  },
  {
   "cell_type": "markdown",
   "metadata": {},
   "source": [
    "## Importation des modules"
   ]
  },
  {
   "cell_type": "code",
   "execution_count": 1,
   "metadata": {},
   "outputs": [],
   "source": [
    "import pandas as pd\n",
    "import numpy as np\n",
    "\n",
    "from sklearn.cluster import KMeans\n",
    "from scipy.spatial.distance import cdist\n",
    "from sklearn.cluster import KMeans\n",
    "from sklearn.metrics import pairwise_distances_argmin_min\n",
    "from sklearn import preprocessing\n",
    "\n",
    "import matplotlib.pyplot as plt\n",
    "import seaborn as sns\n",
    "\n",
    "import scipy.stats as st\n",
    "from collections import Counter\n",
    "from scipy.stats import ks_2samp\n",
    "\n",
    "import statsmodels.api as sm\n",
    "import statsmodels.formula.api as smf\n",
    "import pingouin as pg"
   ]
  },
  {
   "cell_type": "markdown",
   "metadata": {},
   "source": [
    "## Chargement des données"
   ]
  },
  {
   "cell_type": "code",
   "execution_count": 2,
   "metadata": {},
   "outputs": [],
   "source": [
    "data = pd.read_csv(\"/Users/anissa/P7/data-projet7.csv\", decimal=',')\n",
    "population = pd.read_csv(\"/Users/anissa/P7/API_SP/population.csv\", skiprows=4)\n",
    "gini = pd.read_csv(\"/Users/anissa/P7/gini.csv\", skiprows=4, sep=',')\n",
    "coeff_elasticite = pd.read_csv(\"/Users/anissa/P7/coeff_elasticite.csv\")"
   ]
  },
  {
   "cell_type": "markdown",
   "metadata": {},
   "source": [
    "_______________"
   ]
  },
  {
   "cell_type": "markdown",
   "metadata": {},
   "source": [
    "## Exploration des données et nettoyage"
   ]
  },
  {
   "cell_type": "code",
   "execution_count": 3,
   "metadata": {},
   "outputs": [
    {
     "name": "stdout",
     "output_type": "stream",
     "text": [
      "Valeurs manquantes :\n",
      "country           0\n",
      "year_survey       0\n",
      "quantile          0\n",
      "nb_quantiles      0\n",
      "income            0\n",
      "gdpppp          200\n",
      "dtype: int64\n"
     ]
    }
   ],
   "source": [
    "print('Valeurs manquantes :\\n' + str(data.isnull().sum()))\n",
    "# 200 valeurs manquantes"
   ]
  },
  {
   "cell_type": "code",
   "execution_count": 4,
   "metadata": {},
   "outputs": [
    {
     "name": "stdout",
     "output_type": "stream",
     "text": [
      "Valeurs dupliquées :  0\n"
     ]
    }
   ],
   "source": [
    "print('Valeurs dupliquées : ', data.duplicated().sum())"
   ]
  },
  {
   "cell_type": "markdown",
   "metadata": {},
   "source": [
    "### 1. Valeurs manquantes"
   ]
  },
  {
   "cell_type": "markdown",
   "metadata": {},
   "source": [
    "#### 1.1. GDPPPP manquants"
   ]
  },
  {
   "cell_type": "code",
   "execution_count": 5,
   "metadata": {},
   "outputs": [
    {
     "data": {
      "text/html": [
       "<div>\n",
       "<style scoped>\n",
       "    .dataframe tbody tr th:only-of-type {\n",
       "        vertical-align: middle;\n",
       "    }\n",
       "\n",
       "    .dataframe tbody tr th {\n",
       "        vertical-align: top;\n",
       "    }\n",
       "\n",
       "    .dataframe thead th {\n",
       "        text-align: right;\n",
       "    }\n",
       "</style>\n",
       "<table border=\"1\" class=\"dataframe\">\n",
       "  <thead>\n",
       "    <tr style=\"text-align: right;\">\n",
       "      <th></th>\n",
       "      <th>country</th>\n",
       "      <th>year_survey</th>\n",
       "      <th>quantile</th>\n",
       "      <th>nb_quantiles</th>\n",
       "      <th>income</th>\n",
       "      <th>gdpppp</th>\n",
       "    </tr>\n",
       "  </thead>\n",
       "  <tbody>\n",
       "    <tr>\n",
       "      <th>5800</th>\n",
       "      <td>XKX</td>\n",
       "      <td>2008</td>\n",
       "      <td>1</td>\n",
       "      <td>100</td>\n",
       "      <td>437.89370</td>\n",
       "      <td>NaN</td>\n",
       "    </tr>\n",
       "    <tr>\n",
       "      <th>5801</th>\n",
       "      <td>XKX</td>\n",
       "      <td>2008</td>\n",
       "      <td>2</td>\n",
       "      <td>100</td>\n",
       "      <td>508.17133</td>\n",
       "      <td>NaN</td>\n",
       "    </tr>\n",
       "    <tr>\n",
       "      <th>5802</th>\n",
       "      <td>XKX</td>\n",
       "      <td>2008</td>\n",
       "      <td>3</td>\n",
       "      <td>100</td>\n",
       "      <td>591.82820</td>\n",
       "      <td>NaN</td>\n",
       "    </tr>\n",
       "    <tr>\n",
       "      <th>5803</th>\n",
       "      <td>XKX</td>\n",
       "      <td>2008</td>\n",
       "      <td>4</td>\n",
       "      <td>100</td>\n",
       "      <td>668.00000</td>\n",
       "      <td>NaN</td>\n",
       "    </tr>\n",
       "    <tr>\n",
       "      <th>5804</th>\n",
       "      <td>XKX</td>\n",
       "      <td>2008</td>\n",
       "      <td>5</td>\n",
       "      <td>100</td>\n",
       "      <td>730.40220</td>\n",
       "      <td>NaN</td>\n",
       "    </tr>\n",
       "  </tbody>\n",
       "</table>\n",
       "</div>"
      ],
      "text/plain": [
       "     country  year_survey  quantile  nb_quantiles     income  gdpppp\n",
       "5800     XKX         2008         1           100  437.89370     NaN\n",
       "5801     XKX         2008         2           100  508.17133     NaN\n",
       "5802     XKX         2008         3           100  591.82820     NaN\n",
       "5803     XKX         2008         4           100  668.00000     NaN\n",
       "5804     XKX         2008         5           100  730.40220     NaN"
      ]
     },
     "execution_count": 5,
     "metadata": {},
     "output_type": "execute_result"
    }
   ],
   "source": [
    "# Recherche des valeurs manquantes\n",
    "lignes_nulles = data[data.isnull().any(axis=1)]\n",
    "lignes_nulles.head() #gdpppp manquants"
   ]
  },
  {
   "cell_type": "code",
   "execution_count": 6,
   "metadata": {},
   "outputs": [
    {
     "data": {
      "text/plain": [
       "array(['XKX', 'PSE'], dtype=object)"
      ]
     },
     "execution_count": 6,
     "metadata": {},
     "output_type": "execute_result"
    }
   ],
   "source": [
    "# Localisation des pays où le gdpppp est manquant\n",
    "lignes_nulles.country.unique()"
   ]
  },
  {
   "cell_type": "code",
   "execution_count": 7,
   "metadata": {},
   "outputs": [],
   "source": [
    "# Affectation des valeurs pour les valeurs manquantes\n",
    "data.loc[data['country'] == 'XKX', 'gdpppp'] = 3254.9\n",
    "data.loc[data['country'] == 'PSE', 'gdpppp'] = 2035"
   ]
  },
  {
   "cell_type": "markdown",
   "metadata": {},
   "source": [
    "#### 1.2. Quantile manquant"
   ]
  },
  {
   "cell_type": "code",
   "execution_count": 8,
   "metadata": {},
   "outputs": [
    {
     "data": {
      "text/html": [
       "<div>\n",
       "<style scoped>\n",
       "    .dataframe tbody tr th:only-of-type {\n",
       "        vertical-align: middle;\n",
       "    }\n",
       "\n",
       "    .dataframe tbody tr th {\n",
       "        vertical-align: top;\n",
       "    }\n",
       "\n",
       "    .dataframe thead th {\n",
       "        text-align: right;\n",
       "    }\n",
       "</style>\n",
       "<table border=\"1\" class=\"dataframe\">\n",
       "  <thead>\n",
       "    <tr style=\"text-align: right;\">\n",
       "      <th></th>\n",
       "      <th>quantile</th>\n",
       "    </tr>\n",
       "    <tr>\n",
       "      <th>country</th>\n",
       "      <th></th>\n",
       "    </tr>\n",
       "  </thead>\n",
       "  <tbody>\n",
       "    <tr>\n",
       "      <th>ALB</th>\n",
       "      <td>100</td>\n",
       "    </tr>\n",
       "    <tr>\n",
       "      <th>ARG</th>\n",
       "      <td>100</td>\n",
       "    </tr>\n",
       "    <tr>\n",
       "      <th>ARM</th>\n",
       "      <td>100</td>\n",
       "    </tr>\n",
       "    <tr>\n",
       "      <th>AUT</th>\n",
       "      <td>100</td>\n",
       "    </tr>\n",
       "    <tr>\n",
       "      <th>AZE</th>\n",
       "      <td>100</td>\n",
       "    </tr>\n",
       "  </tbody>\n",
       "</table>\n",
       "</div>"
      ],
      "text/plain": [
       "         quantile\n",
       "country          \n",
       "ALB           100\n",
       "ARG           100\n",
       "ARM           100\n",
       "AUT           100\n",
       "AZE           100"
      ]
     },
     "execution_count": 8,
     "metadata": {},
     "output_type": "execute_result"
    }
   ],
   "source": [
    "# Vérification du nombre de quantiles par pays\n",
    "pays_nb_quantiles = data[['country', 'quantile']].groupby('country').count()\n",
    "pays_nb_quantiles.head()"
   ]
  },
  {
   "cell_type": "code",
   "execution_count": 9,
   "metadata": {},
   "outputs": [
    {
     "data": {
      "text/html": [
       "<div>\n",
       "<style scoped>\n",
       "    .dataframe tbody tr th:only-of-type {\n",
       "        vertical-align: middle;\n",
       "    }\n",
       "\n",
       "    .dataframe tbody tr th {\n",
       "        vertical-align: top;\n",
       "    }\n",
       "\n",
       "    .dataframe thead th {\n",
       "        text-align: right;\n",
       "    }\n",
       "</style>\n",
       "<table border=\"1\" class=\"dataframe\">\n",
       "  <thead>\n",
       "    <tr style=\"text-align: right;\">\n",
       "      <th></th>\n",
       "      <th>quantile</th>\n",
       "    </tr>\n",
       "    <tr>\n",
       "      <th>country</th>\n",
       "      <th></th>\n",
       "    </tr>\n",
       "  </thead>\n",
       "  <tbody>\n",
       "    <tr>\n",
       "      <th>LTU</th>\n",
       "      <td>99</td>\n",
       "    </tr>\n",
       "  </tbody>\n",
       "</table>\n",
       "</div>"
      ],
      "text/plain": [
       "         quantile\n",
       "country          \n",
       "LTU            99"
      ]
     },
     "execution_count": 9,
     "metadata": {},
     "output_type": "execute_result"
    }
   ],
   "source": [
    "# On vérifie si tous les pays comptent bien 100 quantiles\n",
    "pays_nb_quantiles[pays_nb_quantiles['quantile'] != 100] # il manque 1 quantile pour la Lituanie"
   ]
  },
  {
   "cell_type": "code",
   "execution_count": 10,
   "metadata": {},
   "outputs": [
    {
     "name": "stdout",
     "output_type": "stream",
     "text": [
      "Le quantile 41 n'est pas présent.\n"
     ]
    }
   ],
   "source": [
    "for i in range(1,101):\n",
    "    if i not in data.loc[data['country'] == 'LTU','quantile'].values:\n",
    "        print(\"Le quantile\",i,\"n'est pas présent.\")"
   ]
  },
  {
   "cell_type": "code",
   "execution_count": 11,
   "metadata": {},
   "outputs": [
    {
     "data": {
      "text/html": [
       "<div>\n",
       "<style scoped>\n",
       "    .dataframe tbody tr th:only-of-type {\n",
       "        vertical-align: middle;\n",
       "    }\n",
       "\n",
       "    .dataframe tbody tr th {\n",
       "        vertical-align: top;\n",
       "    }\n",
       "\n",
       "    .dataframe thead th {\n",
       "        text-align: right;\n",
       "    }\n",
       "</style>\n",
       "<table border=\"1\" class=\"dataframe\">\n",
       "  <thead>\n",
       "    <tr style=\"text-align: right;\">\n",
       "      <th></th>\n",
       "      <th>country</th>\n",
       "      <th>year_survey</th>\n",
       "      <th>quantile</th>\n",
       "      <th>nb_quantiles</th>\n",
       "      <th>income</th>\n",
       "      <th>gdpppp</th>\n",
       "    </tr>\n",
       "  </thead>\n",
       "  <tbody>\n",
       "    <tr>\n",
       "      <th>6239</th>\n",
       "      <td>LTU</td>\n",
       "      <td>2008</td>\n",
       "      <td>40</td>\n",
       "      <td>100</td>\n",
       "      <td>4868.4507</td>\n",
       "      <td>17571.0</td>\n",
       "    </tr>\n",
       "    <tr>\n",
       "      <th>6240</th>\n",
       "      <td>LTU</td>\n",
       "      <td>2008</td>\n",
       "      <td>42</td>\n",
       "      <td>100</td>\n",
       "      <td>4895.8306</td>\n",
       "      <td>17571.0</td>\n",
       "    </tr>\n",
       "  </tbody>\n",
       "</table>\n",
       "</div>"
      ],
      "text/plain": [
       "     country  year_survey  quantile  nb_quantiles     income   gdpppp\n",
       "6239     LTU         2008        40           100  4868.4507  17571.0\n",
       "6240     LTU         2008        42           100  4895.8306  17571.0"
      ]
     },
     "execution_count": 11,
     "metadata": {},
     "output_type": "execute_result"
    }
   ],
   "source": [
    "# On localise les données situées avant et après le quantile manquant\n",
    "data.loc[(data['country'] == 'LTU') & (data['quantile'].isin([40,42]))]"
   ]
  },
  {
   "cell_type": "code",
   "execution_count": 12,
   "metadata": {},
   "outputs": [
    {
     "data": {
      "text/html": [
       "<div>\n",
       "<style scoped>\n",
       "    .dataframe tbody tr th:only-of-type {\n",
       "        vertical-align: middle;\n",
       "    }\n",
       "\n",
       "    .dataframe tbody tr th {\n",
       "        vertical-align: top;\n",
       "    }\n",
       "\n",
       "    .dataframe thead th {\n",
       "        text-align: right;\n",
       "    }\n",
       "</style>\n",
       "<table border=\"1\" class=\"dataframe\">\n",
       "  <thead>\n",
       "    <tr style=\"text-align: right;\">\n",
       "      <th></th>\n",
       "      <th>country</th>\n",
       "      <th>year_survey</th>\n",
       "      <th>quantile</th>\n",
       "      <th>nb_quantiles</th>\n",
       "      <th>income</th>\n",
       "      <th>gdpppp</th>\n",
       "    </tr>\n",
       "  </thead>\n",
       "  <tbody>\n",
       "    <tr>\n",
       "      <th>0</th>\n",
       "      <td>ALB</td>\n",
       "      <td>2008</td>\n",
       "      <td>1</td>\n",
       "      <td>100</td>\n",
       "      <td>728.89795</td>\n",
       "      <td>7297.0</td>\n",
       "    </tr>\n",
       "    <tr>\n",
       "      <th>1</th>\n",
       "      <td>ALB</td>\n",
       "      <td>2008</td>\n",
       "      <td>2</td>\n",
       "      <td>100</td>\n",
       "      <td>916.66235</td>\n",
       "      <td>7297.0</td>\n",
       "    </tr>\n",
       "    <tr>\n",
       "      <th>2</th>\n",
       "      <td>ALB</td>\n",
       "      <td>2008</td>\n",
       "      <td>3</td>\n",
       "      <td>100</td>\n",
       "      <td>1010.91600</td>\n",
       "      <td>7297.0</td>\n",
       "    </tr>\n",
       "    <tr>\n",
       "      <th>3</th>\n",
       "      <td>ALB</td>\n",
       "      <td>2008</td>\n",
       "      <td>4</td>\n",
       "      <td>100</td>\n",
       "      <td>1086.90780</td>\n",
       "      <td>7297.0</td>\n",
       "    </tr>\n",
       "    <tr>\n",
       "      <th>4</th>\n",
       "      <td>ALB</td>\n",
       "      <td>2008</td>\n",
       "      <td>5</td>\n",
       "      <td>100</td>\n",
       "      <td>1132.69970</td>\n",
       "      <td>7297.0</td>\n",
       "    </tr>\n",
       "  </tbody>\n",
       "</table>\n",
       "</div>"
      ],
      "text/plain": [
       "  country  year_survey  quantile  nb_quantiles      income  gdpppp\n",
       "0     ALB         2008         1           100   728.89795  7297.0\n",
       "1     ALB         2008         2           100   916.66235  7297.0\n",
       "2     ALB         2008         3           100  1010.91600  7297.0\n",
       "3     ALB         2008         4           100  1086.90780  7297.0\n",
       "4     ALB         2008         5           100  1132.69970  7297.0"
      ]
     },
     "execution_count": 12,
     "metadata": {},
     "output_type": "execute_result"
    }
   ],
   "source": [
    "# Ajout des données dans une nouvelles lignes du df\n",
    "data.loc['6239a'] = ['LTU', 2008, 41, 100, ((4868.4507 + 4895.8306) / 2), 17571.0]\n",
    "data.head()"
   ]
  },
  {
   "cell_type": "markdown",
   "metadata": {},
   "source": [
    "#### 1.4. Valeur aberrante"
   ]
  },
  {
   "cell_type": "code",
   "execution_count": 13,
   "metadata": {},
   "outputs": [
    {
     "data": {
      "text/html": [
       "<div>\n",
       "<style scoped>\n",
       "    .dataframe tbody tr th:only-of-type {\n",
       "        vertical-align: middle;\n",
       "    }\n",
       "\n",
       "    .dataframe tbody tr th {\n",
       "        vertical-align: top;\n",
       "    }\n",
       "\n",
       "    .dataframe thead th {\n",
       "        text-align: right;\n",
       "    }\n",
       "</style>\n",
       "<table border=\"1\" class=\"dataframe\">\n",
       "  <thead>\n",
       "    <tr style=\"text-align: right;\">\n",
       "      <th></th>\n",
       "      <th>country</th>\n",
       "      <th>year_survey</th>\n",
       "      <th>quantile</th>\n",
       "      <th>nb_quantiles</th>\n",
       "      <th>income</th>\n",
       "      <th>gdpppp</th>\n",
       "    </tr>\n",
       "  </thead>\n",
       "  <tbody>\n",
       "    <tr>\n",
       "      <th>0</th>\n",
       "      <td>ALB</td>\n",
       "      <td>2008</td>\n",
       "      <td>1</td>\n",
       "      <td>100</td>\n",
       "      <td>728.89795</td>\n",
       "      <td>7297.00000</td>\n",
       "    </tr>\n",
       "    <tr>\n",
       "      <th>1</th>\n",
       "      <td>ALB</td>\n",
       "      <td>2008</td>\n",
       "      <td>2</td>\n",
       "      <td>100</td>\n",
       "      <td>916.66235</td>\n",
       "      <td>7297.00000</td>\n",
       "    </tr>\n",
       "    <tr>\n",
       "      <th>2</th>\n",
       "      <td>ALB</td>\n",
       "      <td>2008</td>\n",
       "      <td>3</td>\n",
       "      <td>100</td>\n",
       "      <td>1010.91600</td>\n",
       "      <td>7297.00000</td>\n",
       "    </tr>\n",
       "    <tr>\n",
       "      <th>3</th>\n",
       "      <td>ALB</td>\n",
       "      <td>2008</td>\n",
       "      <td>4</td>\n",
       "      <td>100</td>\n",
       "      <td>1086.90780</td>\n",
       "      <td>7297.00000</td>\n",
       "    </tr>\n",
       "    <tr>\n",
       "      <th>4</th>\n",
       "      <td>ALB</td>\n",
       "      <td>2008</td>\n",
       "      <td>5</td>\n",
       "      <td>100</td>\n",
       "      <td>1132.69970</td>\n",
       "      <td>7297.00000</td>\n",
       "    </tr>\n",
       "    <tr>\n",
       "      <th>...</th>\n",
       "      <td>...</td>\n",
       "      <td>...</td>\n",
       "      <td>...</td>\n",
       "      <td>...</td>\n",
       "      <td>...</td>\n",
       "      <td>...</td>\n",
       "    </tr>\n",
       "    <tr>\n",
       "      <th>11595</th>\n",
       "      <td>COD</td>\n",
       "      <td>2008</td>\n",
       "      <td>97</td>\n",
       "      <td>100</td>\n",
       "      <td>911.78340</td>\n",
       "      <td>303.19305</td>\n",
       "    </tr>\n",
       "    <tr>\n",
       "      <th>11596</th>\n",
       "      <td>COD</td>\n",
       "      <td>2008</td>\n",
       "      <td>98</td>\n",
       "      <td>100</td>\n",
       "      <td>1057.80740</td>\n",
       "      <td>303.19305</td>\n",
       "    </tr>\n",
       "    <tr>\n",
       "      <th>11597</th>\n",
       "      <td>COD</td>\n",
       "      <td>2008</td>\n",
       "      <td>99</td>\n",
       "      <td>100</td>\n",
       "      <td>1286.60290</td>\n",
       "      <td>303.19305</td>\n",
       "    </tr>\n",
       "    <tr>\n",
       "      <th>11598</th>\n",
       "      <td>COD</td>\n",
       "      <td>2008</td>\n",
       "      <td>100</td>\n",
       "      <td>100</td>\n",
       "      <td>2243.12260</td>\n",
       "      <td>303.19305</td>\n",
       "    </tr>\n",
       "    <tr>\n",
       "      <th>6239a</th>\n",
       "      <td>LTU</td>\n",
       "      <td>2008</td>\n",
       "      <td>41</td>\n",
       "      <td>100</td>\n",
       "      <td>4882.14065</td>\n",
       "      <td>17571.00000</td>\n",
       "    </tr>\n",
       "  </tbody>\n",
       "</table>\n",
       "<p>11600 rows × 6 columns</p>\n",
       "</div>"
      ],
      "text/plain": [
       "      country  year_survey  quantile  nb_quantiles      income       gdpppp\n",
       "0         ALB         2008         1           100   728.89795   7297.00000\n",
       "1         ALB         2008         2           100   916.66235   7297.00000\n",
       "2         ALB         2008         3           100  1010.91600   7297.00000\n",
       "3         ALB         2008         4           100  1086.90780   7297.00000\n",
       "4         ALB         2008         5           100  1132.69970   7297.00000\n",
       "...       ...          ...       ...           ...         ...          ...\n",
       "11595     COD         2008        97           100   911.78340    303.19305\n",
       "11596     COD         2008        98           100  1057.80740    303.19305\n",
       "11597     COD         2008        99           100  1286.60290    303.19305\n",
       "11598     COD         2008       100           100  2243.12260    303.19305\n",
       "6239a     LTU         2008        41           100  4882.14065  17571.00000\n",
       "\n",
       "[11600 rows x 6 columns]"
      ]
     },
     "execution_count": 13,
     "metadata": {},
     "output_type": "execute_result"
    }
   ],
   "source": [
    "# Traitement des données aberrantes pour les Fidji\n",
    "data.replace([\"4300332\"], \"7777,6\")"
   ]
  },
  {
   "cell_type": "markdown",
   "metadata": {},
   "source": [
    "### 2. Résumé des données utilisées"
   ]
  },
  {
   "cell_type": "markdown",
   "metadata": {},
   "source": [
    "#### 2.1. Années utilisées"
   ]
  },
  {
   "cell_type": "code",
   "execution_count": 14,
   "metadata": {},
   "outputs": [
    {
     "name": "stdout",
     "output_type": "stream",
     "text": [
      "[2004 2006 2007 2008 2009 2010 2011]\n"
     ]
    }
   ],
   "source": [
    "year = data['year_survey'].unique()\n",
    "print(np.sort(year))"
   ]
  },
  {
   "cell_type": "markdown",
   "metadata": {},
   "source": [
    "#### 2.2. Nombre de pays présents"
   ]
  },
  {
   "cell_type": "code",
   "execution_count": 15,
   "metadata": {},
   "outputs": [
    {
     "name": "stdout",
     "output_type": "stream",
     "text": [
      "Nombre de pays présents dans l'échantillon :  116\n"
     ]
    }
   ],
   "source": [
    "country = data['country'].unique()\n",
    "print('Nombre de pays présents dans l\\'échantillon : ', len(country))"
   ]
  },
  {
   "cell_type": "markdown",
   "metadata": {},
   "source": [
    "#### 2.3. Population couverte par l'analyse"
   ]
  },
  {
   "cell_type": "code",
   "execution_count": 16,
   "metadata": {},
   "outputs": [
    {
     "data": {
      "text/html": [
       "<div>\n",
       "<style scoped>\n",
       "    .dataframe tbody tr th:only-of-type {\n",
       "        vertical-align: middle;\n",
       "    }\n",
       "\n",
       "    .dataframe tbody tr th {\n",
       "        vertical-align: top;\n",
       "    }\n",
       "\n",
       "    .dataframe thead th {\n",
       "        text-align: right;\n",
       "    }\n",
       "</style>\n",
       "<table border=\"1\" class=\"dataframe\">\n",
       "  <thead>\n",
       "    <tr style=\"text-align: right;\">\n",
       "      <th></th>\n",
       "      <th>country</th>\n",
       "      <th>year_survey</th>\n",
       "      <th>quantile</th>\n",
       "      <th>nb_quantiles</th>\n",
       "      <th>income</th>\n",
       "      <th>gdpppp</th>\n",
       "      <th>population</th>\n",
       "      <th>pays</th>\n",
       "    </tr>\n",
       "  </thead>\n",
       "  <tbody>\n",
       "    <tr>\n",
       "      <th>0</th>\n",
       "      <td>ALB</td>\n",
       "      <td>2008</td>\n",
       "      <td>1</td>\n",
       "      <td>100</td>\n",
       "      <td>728.89795</td>\n",
       "      <td>7297.0</td>\n",
       "      <td>2947314.0</td>\n",
       "      <td>Albanie</td>\n",
       "    </tr>\n",
       "    <tr>\n",
       "      <th>1</th>\n",
       "      <td>ALB</td>\n",
       "      <td>2008</td>\n",
       "      <td>2</td>\n",
       "      <td>100</td>\n",
       "      <td>916.66235</td>\n",
       "      <td>7297.0</td>\n",
       "      <td>2947314.0</td>\n",
       "      <td>Albanie</td>\n",
       "    </tr>\n",
       "    <tr>\n",
       "      <th>2</th>\n",
       "      <td>ALB</td>\n",
       "      <td>2008</td>\n",
       "      <td>3</td>\n",
       "      <td>100</td>\n",
       "      <td>1010.91600</td>\n",
       "      <td>7297.0</td>\n",
       "      <td>2947314.0</td>\n",
       "      <td>Albanie</td>\n",
       "    </tr>\n",
       "    <tr>\n",
       "      <th>3</th>\n",
       "      <td>ALB</td>\n",
       "      <td>2008</td>\n",
       "      <td>4</td>\n",
       "      <td>100</td>\n",
       "      <td>1086.90780</td>\n",
       "      <td>7297.0</td>\n",
       "      <td>2947314.0</td>\n",
       "      <td>Albanie</td>\n",
       "    </tr>\n",
       "    <tr>\n",
       "      <th>4</th>\n",
       "      <td>ALB</td>\n",
       "      <td>2008</td>\n",
       "      <td>5</td>\n",
       "      <td>100</td>\n",
       "      <td>1132.69970</td>\n",
       "      <td>7297.0</td>\n",
       "      <td>2947314.0</td>\n",
       "      <td>Albanie</td>\n",
       "    </tr>\n",
       "  </tbody>\n",
       "</table>\n",
       "</div>"
      ],
      "text/plain": [
       "  country  year_survey  quantile  nb_quantiles      income  gdpppp  \\\n",
       "0     ALB         2008         1           100   728.89795  7297.0   \n",
       "1     ALB         2008         2           100   916.66235  7297.0   \n",
       "2     ALB         2008         3           100  1010.91600  7297.0   \n",
       "3     ALB         2008         4           100  1086.90780  7297.0   \n",
       "4     ALB         2008         5           100  1132.69970  7297.0   \n",
       "\n",
       "   population     pays  \n",
       "0   2947314.0  Albanie  \n",
       "1   2947314.0  Albanie  \n",
       "2   2947314.0  Albanie  \n",
       "3   2947314.0  Albanie  \n",
       "4   2947314.0  Albanie  "
      ]
     },
     "execution_count": 16,
     "metadata": {},
     "output_type": "execute_result"
    }
   ],
   "source": [
    "# Restriction sur les colonnes utiles\n",
    "pop = population[['Country Code', '2008', 'Country Name']]\n",
    "\n",
    "# Merge des deux df pour obtenir le nom du pays en fonction de son code ISO\n",
    "data = pd.merge(data, pop, left_on='country', right_on='Country Code')\n",
    "data = data[['country', 'year_survey', 'quantile', 'nb_quantiles', \n",
    "             'income', 'gdpppp', \"2008\", \"Country Name\"]]\n",
    "data = data.rename(columns={\"2008\":'population', \"Country Code\":\"ISO\", \n",
    "                            \"Country Name\":\"pays\"})\n",
    "data.head()"
   ]
  },
  {
   "cell_type": "code",
   "execution_count": 17,
   "metadata": {},
   "outputs": [
    {
     "data": {
      "text/plain": [
       "country         0\n",
       "year_survey     0\n",
       "quantile        0\n",
       "nb_quantiles    0\n",
       "income          0\n",
       "gdpppp          0\n",
       "population      0\n",
       "pays            0\n",
       "dtype: int64"
      ]
     },
     "execution_count": 17,
     "metadata": {},
     "output_type": "execute_result"
    }
   ],
   "source": [
    "# Vérification des valeurs manquantes\n",
    "data.isnull().sum()"
   ]
  },
  {
   "cell_type": "code",
   "execution_count": 18,
   "metadata": {},
   "outputs": [
    {
     "name": "stdout",
     "output_type": "stream",
     "text": [
      "Population couverte par l'analyse : 91.47293572868858%.\n"
     ]
    }
   ],
   "source": [
    "# On sélectionne la ligne qui nous intéresse\n",
    "popu = population.loc[population[\"Country Name\"]==\"Monde\"]\n",
    "international = popu[\"2008\"].values[0]\n",
    "\n",
    "# Calcul de la population couverte par l'étude\n",
    "inter = data.groupby(by='country').mean()\n",
    "pop_couverte = inter['population'].sum()\n",
    "\n",
    "pourcent_pop_etude = 100 * pop_couverte / international\n",
    "print('Population couverte par l\\'analyse : ' + str(pourcent_pop_etude) + '%.')"
   ]
  },
  {
   "cell_type": "code",
   "execution_count": 19,
   "metadata": {},
   "outputs": [
    {
     "data": {
      "text/html": [
       "<div>\n",
       "<style scoped>\n",
       "    .dataframe tbody tr th:only-of-type {\n",
       "        vertical-align: middle;\n",
       "    }\n",
       "\n",
       "    .dataframe tbody tr th {\n",
       "        vertical-align: top;\n",
       "    }\n",
       "\n",
       "    .dataframe thead th {\n",
       "        text-align: right;\n",
       "    }\n",
       "</style>\n",
       "<table border=\"1\" class=\"dataframe\">\n",
       "  <thead>\n",
       "    <tr style=\"text-align: right;\">\n",
       "      <th></th>\n",
       "      <th>country</th>\n",
       "      <th>year_survey</th>\n",
       "      <th>quantile</th>\n",
       "      <th>nb_quantiles</th>\n",
       "      <th>income</th>\n",
       "      <th>gdpppp</th>\n",
       "      <th>population</th>\n",
       "      <th>pays</th>\n",
       "    </tr>\n",
       "  </thead>\n",
       "  <tbody>\n",
       "    <tr>\n",
       "      <th>0</th>\n",
       "      <td>ALB</td>\n",
       "      <td>2008</td>\n",
       "      <td>1</td>\n",
       "      <td>100</td>\n",
       "      <td>728.89795</td>\n",
       "      <td>7297.0</td>\n",
       "      <td>2947314.0</td>\n",
       "      <td>Albanie</td>\n",
       "    </tr>\n",
       "    <tr>\n",
       "      <th>1</th>\n",
       "      <td>ALB</td>\n",
       "      <td>2008</td>\n",
       "      <td>2</td>\n",
       "      <td>100</td>\n",
       "      <td>916.66235</td>\n",
       "      <td>7297.0</td>\n",
       "      <td>2947314.0</td>\n",
       "      <td>Albanie</td>\n",
       "    </tr>\n",
       "    <tr>\n",
       "      <th>2</th>\n",
       "      <td>ALB</td>\n",
       "      <td>2008</td>\n",
       "      <td>3</td>\n",
       "      <td>100</td>\n",
       "      <td>1010.91600</td>\n",
       "      <td>7297.0</td>\n",
       "      <td>2947314.0</td>\n",
       "      <td>Albanie</td>\n",
       "    </tr>\n",
       "    <tr>\n",
       "      <th>3</th>\n",
       "      <td>ALB</td>\n",
       "      <td>2008</td>\n",
       "      <td>4</td>\n",
       "      <td>100</td>\n",
       "      <td>1086.90780</td>\n",
       "      <td>7297.0</td>\n",
       "      <td>2947314.0</td>\n",
       "      <td>Albanie</td>\n",
       "    </tr>\n",
       "    <tr>\n",
       "      <th>4</th>\n",
       "      <td>ALB</td>\n",
       "      <td>2008</td>\n",
       "      <td>5</td>\n",
       "      <td>100</td>\n",
       "      <td>1132.69970</td>\n",
       "      <td>7297.0</td>\n",
       "      <td>2947314.0</td>\n",
       "      <td>Albanie</td>\n",
       "    </tr>\n",
       "  </tbody>\n",
       "</table>\n",
       "</div>"
      ],
      "text/plain": [
       "  country  year_survey  quantile  nb_quantiles      income  gdpppp  \\\n",
       "0     ALB         2008         1           100   728.89795  7297.0   \n",
       "1     ALB         2008         2           100   916.66235  7297.0   \n",
       "2     ALB         2008         3           100  1010.91600  7297.0   \n",
       "3     ALB         2008         4           100  1086.90780  7297.0   \n",
       "4     ALB         2008         5           100  1132.69970  7297.0   \n",
       "\n",
       "   population     pays  \n",
       "0   2947314.0  Albanie  \n",
       "1   2947314.0  Albanie  \n",
       "2   2947314.0  Albanie  \n",
       "3   2947314.0  Albanie  \n",
       "4   2947314.0  Albanie  "
      ]
     },
     "execution_count": 19,
     "metadata": {},
     "output_type": "execute_result"
    }
   ],
   "source": [
    "# On crée une copie de notre df\n",
    "donnees_monde = data.copy()\n",
    "donnees_monde.head()"
   ]
  },
  {
   "cell_type": "markdown",
   "metadata": {},
   "source": [
    "NB :\n",
    "   * Le type de quantiles utilisé pour la variable \"income\" est le **centile/percentile**.  \n",
    "   * Cela permet de _réduire la taille de l’échantillon_ tout en préservant suffisamment d’informations + _gommer les écarts entre les pays_"
   ]
  },
  {
   "cell_type": "markdown",
   "metadata": {},
   "source": [
    "______________________"
   ]
  },
  {
   "cell_type": "markdown",
   "metadata": {},
   "source": [
    "### 3. Analyse des données"
   ]
  },
  {
   "cell_type": "markdown",
   "metadata": {},
   "source": [
    "#### 3.1. Diversité des pays en termes de distribution de revenus"
   ]
  },
  {
   "cell_type": "markdown",
   "metadata": {},
   "source": [
    "##### 3.1.1. Sélection de pays représentatifs"
   ]
  },
  {
   "cell_type": "code",
   "execution_count": 20,
   "metadata": {},
   "outputs": [
    {
     "name": "stdout",
     "output_type": "stream",
     "text": [
      "1 : 64622749.89948084\n",
      "2 : 32931792.952655643\n",
      "3 : 20051278.576419074\n",
      "4 : 12484055.857360132\n",
      "5 : 10670813.39068916\n",
      "6 : 9592680.91212997\n",
      "7 : 7234785.087579055\n",
      "8 : 6268839.773234789\n",
      "9 : 4866049.660379379\n"
     ]
    },
    {
     "data": {
      "image/png": "[encoded data removed]",
      "text/plain": [
       "<Figure size 720x720 with 1 Axes>"
      ]
     },
     "metadata": {
      "needs_background": "light"
     },
     "output_type": "display_data"
    }
   ],
   "source": [
    "X = data[['gdpppp', 'population']].values\n",
    "\n",
    "distortions = [] \n",
    "inertias = [] \n",
    "mapping1 = {} \n",
    "mapping2 = {} \n",
    "K = range(1,10) \n",
    "  \n",
    "for k in K: \n",
    "    #Building and fitting the model \n",
    "    kmeanModel = KMeans(n_clusters=k).fit(X) \n",
    "    kmeanModel.fit(X)     \n",
    "      \n",
    "    distortions.append(sum(np.min(cdist(X, kmeanModel.cluster_centers_, \n",
    "                      'euclidean'),axis=1)) / X.shape[0]) \n",
    "    inertias.append(kmeanModel.inertia_) \n",
    "  \n",
    "    mapping1[k] = sum(np.min(cdist(X, kmeanModel.cluster_centers_, \n",
    "                 'euclidean'),axis=1)) / X.shape[0] \n",
    "    mapping2[k] = kmeanModel.inertia_ \n",
    "\n",
    "\n",
    "for key,val in mapping1.items(): \n",
    "    print(str(key)+' : '+str(val)) \n",
    "\n",
    "plt.figure(figsize=(10,10))\n",
    "sns.set_palette(\"rocket\")\n",
    "plt.plot(K, distortions, 'bx-') \n",
    "plt.xlabel('Valeurs de K') \n",
    "plt.ylabel('Distortion') \n",
    "plt.title('Méthode du coude sur les distorsions') \n",
    "\n",
    "plt.show()"
   ]
  },
  {
   "cell_type": "code",
   "execution_count": 21,
   "metadata": {},
   "outputs": [
    {
     "data": {
      "text/html": [
       "<div>\n",
       "<style scoped>\n",
       "    .dataframe tbody tr th:only-of-type {\n",
       "        vertical-align: middle;\n",
       "    }\n",
       "\n",
       "    .dataframe tbody tr th {\n",
       "        vertical-align: top;\n",
       "    }\n",
       "\n",
       "    .dataframe thead th {\n",
       "        text-align: right;\n",
       "    }\n",
       "</style>\n",
       "<table border=\"1\" class=\"dataframe\">\n",
       "  <thead>\n",
       "    <tr style=\"text-align: right;\">\n",
       "      <th></th>\n",
       "      <th>country</th>\n",
       "      <th>year_survey</th>\n",
       "      <th>quantile</th>\n",
       "      <th>nb_quantiles</th>\n",
       "      <th>income</th>\n",
       "      <th>gdpppp</th>\n",
       "      <th>population</th>\n",
       "      <th>pays</th>\n",
       "    </tr>\n",
       "  </thead>\n",
       "  <tbody>\n",
       "    <tr>\n",
       "      <th>3401</th>\n",
       "      <td>GBR</td>\n",
       "      <td>2008</td>\n",
       "      <td>2</td>\n",
       "      <td>100</td>\n",
       "      <td>3946.32180</td>\n",
       "      <td>34048.00000</td>\n",
       "      <td>61806995.0</td>\n",
       "      <td>Royaume-Uni</td>\n",
       "    </tr>\n",
       "    <tr>\n",
       "      <th>2401</th>\n",
       "      <td>DEU</td>\n",
       "      <td>2008</td>\n",
       "      <td>2</td>\n",
       "      <td>100</td>\n",
       "      <td>4179.01460</td>\n",
       "      <td>33758.00000</td>\n",
       "      <td>82110097.0</td>\n",
       "      <td>Allemagne</td>\n",
       "    </tr>\n",
       "    <tr>\n",
       "      <th>10001</th>\n",
       "      <td>THA</td>\n",
       "      <td>2006</td>\n",
       "      <td>2</td>\n",
       "      <td>100</td>\n",
       "      <td>351.28305</td>\n",
       "      <td>7469.00000</td>\n",
       "      <td>66530984.0</td>\n",
       "      <td>Thaïlande</td>\n",
       "    </tr>\n",
       "    <tr>\n",
       "      <th>7001</th>\n",
       "      <td>MLI</td>\n",
       "      <td>2010</td>\n",
       "      <td>2</td>\n",
       "      <td>100</td>\n",
       "      <td>178.90753</td>\n",
       "      <td>929.52966</td>\n",
       "      <td>14113577.0</td>\n",
       "      <td>Mali</td>\n",
       "    </tr>\n",
       "  </tbody>\n",
       "</table>\n",
       "</div>"
      ],
      "text/plain": [
       "      country  year_survey  quantile  nb_quantiles      income       gdpppp  \\\n",
       "3401      GBR         2008         2           100  3946.32180  34048.00000   \n",
       "2401      DEU         2008         2           100  4179.01460  33758.00000   \n",
       "10001     THA         2006         2           100   351.28305   7469.00000   \n",
       "7001      MLI         2010         2           100   178.90753    929.52966   \n",
       "\n",
       "       population         pays  \n",
       "3401   61806995.0  Royaume-Uni  \n",
       "2401   82110097.0    Allemagne  \n",
       "10001  66530984.0    Thaïlande  \n",
       "7001   14113577.0         Mali  "
      ]
     },
     "execution_count": 21,
     "metadata": {},
     "output_type": "execute_result"
    }
   ],
   "source": [
    "nb_cluster = 4\n",
    "X = data.gdpppp.values.reshape(-1, 1)\n",
    "X = data[['gdpppp', 'population']].values.reshape(-1, 1)\n",
    "\n",
    "# Normalisation des données\n",
    "pays_info_norm = preprocessing.scale(X)\n",
    "# Clustering avec la méthode des kmeans\n",
    "km = KMeans(n_clusters = nb_cluster).fit(X)\n",
    "# On determine les pays qui sont les plus proches des centroïdes des clusters\n",
    "i_pays_plus_proches, _ = pairwise_distances_argmin_min(km.cluster_centers_, X)\n",
    "pays_representatifs_cluster = data.iloc[i_pays_plus_proches].sort_values('gdpppp', ascending=False)\n",
    "pays_representatifs_cluster"
   ]
  },
  {
   "cell_type": "markdown",
   "metadata": {},
   "source": [
    "##### 3.1.3. Revenus moyens des pays sélectionnés"
   ]
  },
  {
   "cell_type": "code",
   "execution_count": 22,
   "metadata": {},
   "outputs": [
    {
     "data": {
      "text/html": [
       "<div>\n",
       "<style scoped>\n",
       "    .dataframe tbody tr th:only-of-type {\n",
       "        vertical-align: middle;\n",
       "    }\n",
       "\n",
       "    .dataframe tbody tr th {\n",
       "        vertical-align: top;\n",
       "    }\n",
       "\n",
       "    .dataframe thead th {\n",
       "        text-align: right;\n",
       "    }\n",
       "</style>\n",
       "<table border=\"1\" class=\"dataframe\">\n",
       "  <thead>\n",
       "    <tr style=\"text-align: right;\">\n",
       "      <th></th>\n",
       "      <th>country</th>\n",
       "      <th>year_survey</th>\n",
       "      <th>quantile</th>\n",
       "      <th>nb_quantiles</th>\n",
       "      <th>income</th>\n",
       "      <th>gdpppp</th>\n",
       "      <th>population</th>\n",
       "      <th>pays</th>\n",
       "    </tr>\n",
       "  </thead>\n",
       "  <tbody>\n",
       "    <tr>\n",
       "      <th>2400</th>\n",
       "      <td>DEU</td>\n",
       "      <td>2008</td>\n",
       "      <td>1</td>\n",
       "      <td>100</td>\n",
       "      <td>2205.0122</td>\n",
       "      <td>33758.0</td>\n",
       "      <td>82110097.0</td>\n",
       "      <td>Allemagne</td>\n",
       "    </tr>\n",
       "    <tr>\n",
       "      <th>2401</th>\n",
       "      <td>DEU</td>\n",
       "      <td>2008</td>\n",
       "      <td>2</td>\n",
       "      <td>100</td>\n",
       "      <td>4179.0146</td>\n",
       "      <td>33758.0</td>\n",
       "      <td>82110097.0</td>\n",
       "      <td>Allemagne</td>\n",
       "    </tr>\n",
       "    <tr>\n",
       "      <th>2402</th>\n",
       "      <td>DEU</td>\n",
       "      <td>2008</td>\n",
       "      <td>3</td>\n",
       "      <td>100</td>\n",
       "      <td>5065.8580</td>\n",
       "      <td>33758.0</td>\n",
       "      <td>82110097.0</td>\n",
       "      <td>Allemagne</td>\n",
       "    </tr>\n",
       "    <tr>\n",
       "      <th>2403</th>\n",
       "      <td>DEU</td>\n",
       "      <td>2008</td>\n",
       "      <td>4</td>\n",
       "      <td>100</td>\n",
       "      <td>5707.7173</td>\n",
       "      <td>33758.0</td>\n",
       "      <td>82110097.0</td>\n",
       "      <td>Allemagne</td>\n",
       "    </tr>\n",
       "    <tr>\n",
       "      <th>2404</th>\n",
       "      <td>DEU</td>\n",
       "      <td>2008</td>\n",
       "      <td>5</td>\n",
       "      <td>100</td>\n",
       "      <td>6236.1500</td>\n",
       "      <td>33758.0</td>\n",
       "      <td>82110097.0</td>\n",
       "      <td>Allemagne</td>\n",
       "    </tr>\n",
       "  </tbody>\n",
       "</table>\n",
       "</div>"
      ],
      "text/plain": [
       "     country  year_survey  quantile  nb_quantiles     income   gdpppp  \\\n",
       "2400     DEU         2008         1           100  2205.0122  33758.0   \n",
       "2401     DEU         2008         2           100  4179.0146  33758.0   \n",
       "2402     DEU         2008         3           100  5065.8580  33758.0   \n",
       "2403     DEU         2008         4           100  5707.7173  33758.0   \n",
       "2404     DEU         2008         5           100  6236.1500  33758.0   \n",
       "\n",
       "      population       pays  \n",
       "2400  82110097.0  Allemagne  \n",
       "2401  82110097.0  Allemagne  \n",
       "2402  82110097.0  Allemagne  \n",
       "2403  82110097.0  Allemagne  \n",
       "2404  82110097.0  Allemagne  "
      ]
     },
     "execution_count": 22,
     "metadata": {},
     "output_type": "execute_result"
    }
   ],
   "source": [
    "pays_panel = ['France', 'Royaume-Uni', 'Allemagne', 'Thaïlande', 'Mali']\n",
    "panel = data[data['pays'].isin(pays_panel)]\n",
    "panel.head()"
   ]
  },
  {
   "cell_type": "markdown",
   "metadata": {},
   "source": [
    "***Revenus moyens à l'échelle logarithmique***"
   ]
  },
  {
   "cell_type": "code",
   "execution_count": 23,
   "metadata": {},
   "outputs": [
    {
     "data": {
      "image/png": "[encoded data removed]",
      "text/plain": [
       "<Figure size 576x864 with 1 Axes>"
      ]
     },
     "metadata": {
      "needs_background": "light"
     },
     "output_type": "display_data"
    }
   ],
   "source": [
    "plt.figure(figsize=(8, 12))\n",
    "\n",
    "ax = sns.scatterplot(\n",
    "    data=panel, x='quantile', y='income', \n",
    "    hue='pays', marker='X', s=200)\n",
    "ax.set(yscale=\"log\")\n",
    "\n",
    "plt.title('Échelle logarithmique sur le revenu moyen', size=20)\n",
    "plt.ylabel(\"revenu moyen\", size=15)\n",
    "plt.xlabel(\"quantile\", size=15)\n",
    "plt.legend(prop={\"size\":15})\n",
    "\n",
    "plt.savefig(\"/Users/anissa/01_Echelle logarithme sur le revenu moyen.jpg\", dpi=1200)\n",
    "\n",
    "plt.show()"
   ]
  },
  {
   "cell_type": "markdown",
   "metadata": {},
   "source": [
    "***Revenus moyens par pays***"
   ]
  },
  {
   "cell_type": "code",
   "execution_count": 24,
   "metadata": {},
   "outputs": [
    {
     "data": {
      "image/png": "[encoded data removed]",
      "text/plain": [
       "<Figure size 720x720 with 1 Axes>"
      ]
     },
     "metadata": {
      "needs_background": "light"
     },
     "output_type": "display_data"
    }
   ],
   "source": [
    "incomes_pays = data[(data['pays'] == 'France') |\n",
    "                     (data['pays'] == 'Mali') |\n",
    "                     (data['pays'] == 'Thaïlande') |\n",
    "                     (data['pays'] == 'Allemagne') |\n",
    "                     (data['pays'] == 'Royaume-Uni')].sort_values('income')\n",
    "\n",
    "plt.figure(figsize=(10,10))\n",
    "\n",
    "plt.barh(incomes_pays.pays, incomes_pays.income)\n",
    "\n",
    "plt.title('Revenus moyens des pays sélectionnés', size=20)\n",
    "plt.ylabel(\"revenu moyen\", size=15)\n",
    "\n",
    "plt.savefig(\"/Users/anissa/02_Diagramme bâton revenus moyens.jpg\", dpi=1200)\n",
    "\n",
    "plt.show()"
   ]
  },
  {
   "cell_type": "markdown",
   "metadata": {},
   "source": [
    "#### 3.2. Courbes de lorenz pour chacun des pays choisis"
   ]
  },
  {
   "cell_type": "code",
   "execution_count": 25,
   "metadata": {},
   "outputs": [
    {
     "data": {
      "image/png": "[encoded data removed]",
      "text/plain": [
       "<Figure size 720x720 with 1 Axes>"
      ]
     },
     "metadata": {
      "needs_background": "light"
     },
     "output_type": "display_data"
    }
   ],
   "source": [
    "income_fra = data[data['pays'] == 'France']\n",
    "income_all = data[data['pays'] == 'Allemagne']\n",
    "income_uk = data[data['pays'] == 'Royaume-Uni']\n",
    "income_mal = data[data['pays'] == 'Mali']\n",
    "income_thai = data[data['pays'] == 'Thaïlande']\n",
    "\n",
    "incomes_fra = income_fra['income'].values\n",
    "lorenz_fra = np.cumsum(np.sort(incomes_fra)) / incomes_fra.sum()\n",
    "lorenz_fra = np.append([0], lorenz_fra)\n",
    "\n",
    "incomes_all = income_all['income'].values\n",
    "lorenz_all = np.cumsum(np.sort(incomes_all)) / incomes_all.sum()\n",
    "lorenz_all = np.append([0], lorenz_all)\n",
    "\n",
    "incomes_uk = income_uk['income'].values\n",
    "lorenz_uk = np.cumsum(np.sort(incomes_uk)) / incomes_uk.sum()\n",
    "lorenz_uk = np.append([0], lorenz_uk)\n",
    "\n",
    "incomes_mal = income_mal['income'].values\n",
    "lorenz_mal = np.cumsum(np.sort(incomes_mal)) / incomes_mal.sum()\n",
    "lorenz_mal = np.append([0], lorenz_mal)\n",
    "\n",
    "incomes_thai = income_thai['income'].values\n",
    "lorenz_thai = np.cumsum(np.sort(incomes_thai)) / incomes_thai.sum()\n",
    "lorenz_thai = np.append([0], lorenz_thai)\n",
    "\n",
    "plt.figure(figsize=(10,10))\n",
    "\n",
    "plt.plot(np.linspace(0,1,len(lorenz_fra)),lorenz_fra, color='#2A1D2F')\n",
    "plt.plot(np.linspace(0,1,len(lorenz_all)),lorenz_all, color='#461F55')\n",
    "plt.plot(np.linspace(0,1,len(lorenz_uk)),lorenz_uk, color='#902F5B')\n",
    "plt.plot(np.linspace(0,1,len(lorenz_mal)),lorenz_mal, color='#DD3D59')\n",
    "plt.plot(np.linspace(0,1,len(lorenz_thai)),lorenz_thai, color='#F58A3E')\n",
    "\n",
    "x = [0, 1]\n",
    "y = [0, 1]\n",
    "plt.plot(x, y, '#002740', linestyle='--', label='Médiatrice')\n",
    "plt.text(0.5, 0.59, 'Bissectrice', fontsize=14, rotation = 45, color ='#002740')\n",
    "\n",
    "label = ['France',  'Allemagne', 'Royaume-Uni', 'Mali', 'Thaïlande']\n",
    "\n",
    "plt.title('Courbe de Lorenz (revenus)', fontsize=20)\n",
    "plt.ylabel('proportion des revenus', fontsize=15)\n",
    "plt.yticks(fontsize=16)\n",
    "plt.xlabel('proportion de population', fontsize=15)\n",
    "plt.xticks(fontsize=16)\n",
    "plt.legend(label, prop={'size':15})\n",
    "plt.tight_layout()\n",
    "\n",
    "plt.savefig(\"/Users/anissa/03_Courbe de Lorenz.jpg\", dpi=1200)\n",
    "\n",
    "plt.show()"
   ]
  },
  {
   "cell_type": "markdown",
   "metadata": {},
   "source": [
    "#### 3.3. Evolution de l'indice de Gini au fil des ans"
   ]
  },
  {
   "cell_type": "code",
   "execution_count": 26,
   "metadata": {},
   "outputs": [
    {
     "data": {
      "text/html": [
       "<div>\n",
       "<style scoped>\n",
       "    .dataframe tbody tr th:only-of-type {\n",
       "        vertical-align: middle;\n",
       "    }\n",
       "\n",
       "    .dataframe tbody tr th {\n",
       "        vertical-align: top;\n",
       "    }\n",
       "\n",
       "    .dataframe thead th {\n",
       "        text-align: right;\n",
       "    }\n",
       "</style>\n",
       "<table border=\"1\" class=\"dataframe\">\n",
       "  <thead>\n",
       "    <tr style=\"text-align: right;\">\n",
       "      <th></th>\n",
       "      <th>2004</th>\n",
       "      <th>2006</th>\n",
       "      <th>2007</th>\n",
       "      <th>2008</th>\n",
       "      <th>2009</th>\n",
       "      <th>2010</th>\n",
       "      <th>2011</th>\n",
       "    </tr>\n",
       "    <tr>\n",
       "      <th>Country Code</th>\n",
       "      <th></th>\n",
       "      <th></th>\n",
       "      <th></th>\n",
       "      <th></th>\n",
       "      <th></th>\n",
       "      <th></th>\n",
       "      <th></th>\n",
       "    </tr>\n",
       "  </thead>\n",
       "  <tbody>\n",
       "    <tr>\n",
       "      <th>FRA</th>\n",
       "      <td>30.6</td>\n",
       "      <td>29.7</td>\n",
       "      <td>32.4</td>\n",
       "      <td>33.0</td>\n",
       "      <td>32.7</td>\n",
       "      <td>33.7</td>\n",
       "      <td>33.3</td>\n",
       "    </tr>\n",
       "    <tr>\n",
       "      <th>GBR</th>\n",
       "      <td>36.0</td>\n",
       "      <td>34.6</td>\n",
       "      <td>35.7</td>\n",
       "      <td>34.1</td>\n",
       "      <td>34.3</td>\n",
       "      <td>34.4</td>\n",
       "      <td>33.2</td>\n",
       "    </tr>\n",
       "    <tr>\n",
       "      <th>DEU</th>\n",
       "      <td>30.4</td>\n",
       "      <td>31.3</td>\n",
       "      <td>31.3</td>\n",
       "      <td>31.1</td>\n",
       "      <td>30.5</td>\n",
       "      <td>30.2</td>\n",
       "      <td>30.5</td>\n",
       "    </tr>\n",
       "    <tr>\n",
       "      <th>THA</th>\n",
       "      <td>42.5</td>\n",
       "      <td>41.8</td>\n",
       "      <td>39.8</td>\n",
       "      <td>40.3</td>\n",
       "      <td>39.6</td>\n",
       "      <td>39.4</td>\n",
       "      <td>37.5</td>\n",
       "    </tr>\n",
       "    <tr>\n",
       "      <th>MLI</th>\n",
       "      <td>NaN</td>\n",
       "      <td>38.9</td>\n",
       "      <td>NaN</td>\n",
       "      <td>NaN</td>\n",
       "      <td>33.0</td>\n",
       "      <td>NaN</td>\n",
       "      <td>NaN</td>\n",
       "    </tr>\n",
       "  </tbody>\n",
       "</table>\n",
       "</div>"
      ],
      "text/plain": [
       "              2004  2006  2007  2008  2009  2010  2011\n",
       "Country Code                                          \n",
       "FRA           30.6  29.7  32.4  33.0  32.7  33.7  33.3\n",
       "GBR           36.0  34.6  35.7  34.1  34.3  34.4  33.2\n",
       "DEU           30.4  31.3  31.3  31.1  30.5  30.2  30.5\n",
       "THA           42.5  41.8  39.8  40.3  39.6  39.4  37.5\n",
       "MLI            NaN  38.9   NaN   NaN  33.0   NaN   NaN"
      ]
     },
     "execution_count": 26,
     "metadata": {},
     "output_type": "execute_result"
    }
   ],
   "source": [
    "# Sélection des pays retenus pour la démonstration\n",
    "gini_index = gini.set_index('Country Code')\n",
    "gini_index = gini_index.loc(axis=0)['FRA', 'GBR','DEU', 'THA', 'MLI']\n",
    "\n",
    "# Sélection des indices de Gini pour les années de notre échantillon\n",
    "gini_index = gini_index[['2004', '2006', '2007', '2008', '2009', '2010','2011']]\n",
    "gini_index"
   ]
  },
  {
   "cell_type": "code",
   "execution_count": 27,
   "metadata": {},
   "outputs": [
    {
     "data": {
      "image/png": "[encoded data removed]",
      "text/plain": [
       "<Figure size 720x720 with 1 Axes>"
      ]
     },
     "metadata": {
      "needs_background": "light"
     },
     "output_type": "display_data"
    }
   ],
   "source": [
    "# Représentation graphique des indices de Gini pour nos différents pays\n",
    "gini_T = gini_index.T\n",
    "\n",
    "\n",
    "plt.figure(figsize=(10,10))\n",
    "sns.lineplot(data=gini_T, markers=True)\n",
    "plt.title('Evolution des indices de Gini (5 pays)', size=20)\n",
    "plt.xlabel('année', size=15)\n",
    "plt.ylabel('indice de Gini', size=15)\n",
    "plt.legend(bbox_to_anchor=(1.05, 1), loc='upper left', prop={\"size\":15})\n",
    "\n",
    "plt.savefig(\"/Users/anissa/04_Evolution des indices de Gini.jpg\", dpi=1200)\n",
    "\n",
    "plt.show()"
   ]
  },
  {
   "cell_type": "markdown",
   "metadata": {},
   "source": [
    "#### 3.4. Classement des indices Gini"
   ]
  },
  {
   "cell_type": "markdown",
   "metadata": {},
   "source": [
    "***Moyenne des indices de Gini***"
   ]
  },
  {
   "cell_type": "code",
   "execution_count": 28,
   "metadata": {},
   "outputs": [
    {
     "name": "stdout",
     "output_type": "stream",
     "text": [
      "Moyenne des indices de Gini : 0.3756164383561644\n"
     ]
    }
   ],
   "source": [
    "gini_classement = gini[['Country Name', '2008']]\n",
    "print('Moyenne des indices de Gini :',\n",
    "      (round(gini_classement['2008']).mean()/100))"
   ]
  },
  {
   "cell_type": "markdown",
   "metadata": {},
   "source": [
    "##### 3.4.1. 5 pays ayant l'indice de Gini le plus élevé"
   ]
  },
  {
   "cell_type": "code",
   "execution_count": 29,
   "metadata": {},
   "outputs": [
    {
     "data": {
      "text/html": [
       "<div>\n",
       "<style scoped>\n",
       "    .dataframe tbody tr th:only-of-type {\n",
       "        vertical-align: middle;\n",
       "    }\n",
       "\n",
       "    .dataframe tbody tr th {\n",
       "        vertical-align: top;\n",
       "    }\n",
       "\n",
       "    .dataframe thead th {\n",
       "        text-align: right;\n",
       "    }\n",
       "</style>\n",
       "<table border=\"1\" class=\"dataframe\">\n",
       "  <thead>\n",
       "    <tr style=\"text-align: right;\">\n",
       "      <th></th>\n",
       "      <th>Country Name</th>\n",
       "      <th>2008</th>\n",
       "    </tr>\n",
       "  </thead>\n",
       "  <tbody>\n",
       "    <tr>\n",
       "      <th>261</th>\n",
       "      <td>South Africa</td>\n",
       "      <td>63.0</td>\n",
       "    </tr>\n",
       "    <tr>\n",
       "      <th>32</th>\n",
       "      <td>Central African Republic</td>\n",
       "      <td>56.2</td>\n",
       "    </tr>\n",
       "    <tr>\n",
       "      <th>95</th>\n",
       "      <td>Honduras</td>\n",
       "      <td>55.5</td>\n",
       "    </tr>\n",
       "    <tr>\n",
       "      <th>43</th>\n",
       "      <td>Colombia</td>\n",
       "      <td>55.3</td>\n",
       "    </tr>\n",
       "    <tr>\n",
       "      <th>27</th>\n",
       "      <td>Brazil</td>\n",
       "      <td>54.0</td>\n",
       "    </tr>\n",
       "  </tbody>\n",
       "</table>\n",
       "</div>"
      ],
      "text/plain": [
       "                 Country Name  2008\n",
       "261              South Africa  63.0\n",
       "32   Central African Republic  56.2\n",
       "95                   Honduras  55.5\n",
       "43                   Colombia  55.3\n",
       "27                     Brazil  54.0"
      ]
     },
     "execution_count": 29,
     "metadata": {},
     "output_type": "execute_result"
    }
   ],
   "source": [
    "gini_classement.sort_values(by='2008', ascending=False).head(5)"
   ]
  },
  {
   "cell_type": "markdown",
   "metadata": {},
   "source": [
    "##### 3.4.2. 5 pays ayant l'indice de Gini le plus faible"
   ]
  },
  {
   "cell_type": "code",
   "execution_count": 30,
   "metadata": {},
   "outputs": [
    {
     "data": {
      "text/html": [
       "<div>\n",
       "<style scoped>\n",
       "    .dataframe tbody tr th:only-of-type {\n",
       "        vertical-align: middle;\n",
       "    }\n",
       "\n",
       "    .dataframe tbody tr th {\n",
       "        vertical-align: top;\n",
       "    }\n",
       "\n",
       "    .dataframe thead th {\n",
       "        text-align: right;\n",
       "    }\n",
       "</style>\n",
       "<table border=\"1\" class=\"dataframe\">\n",
       "  <thead>\n",
       "    <tr style=\"text-align: right;\">\n",
       "      <th></th>\n",
       "      <th>Country Name</th>\n",
       "      <th>2008</th>\n",
       "    </tr>\n",
       "  </thead>\n",
       "  <tbody>\n",
       "    <tr>\n",
       "      <th>220</th>\n",
       "      <td>Slovenia</td>\n",
       "      <td>23.7</td>\n",
       "    </tr>\n",
       "    <tr>\n",
       "      <th>56</th>\n",
       "      <td>Denmark</td>\n",
       "      <td>25.2</td>\n",
       "    </tr>\n",
       "    <tr>\n",
       "      <th>219</th>\n",
       "      <td>Slovak Republic</td>\n",
       "      <td>26.0</td>\n",
       "    </tr>\n",
       "    <tr>\n",
       "      <th>52</th>\n",
       "      <td>Czech Republic</td>\n",
       "      <td>26.3</td>\n",
       "    </tr>\n",
       "    <tr>\n",
       "      <th>246</th>\n",
       "      <td>Ukraine</td>\n",
       "      <td>26.6</td>\n",
       "    </tr>\n",
       "  </tbody>\n",
       "</table>\n",
       "</div>"
      ],
      "text/plain": [
       "        Country Name  2008\n",
       "220         Slovenia  23.7\n",
       "56           Denmark  25.2\n",
       "219  Slovak Republic  26.0\n",
       "52    Czech Republic  26.3\n",
       "246          Ukraine  26.6"
      ]
     },
     "execution_count": 30,
     "metadata": {},
     "output_type": "execute_result"
    }
   ],
   "source": [
    "gini_classement.sort_values(by='2008', ascending=True).head(5)"
   ]
  },
  {
   "cell_type": "markdown",
   "metadata": {},
   "source": [
    "***Position de la France dans le classement des indices de Gini***"
   ]
  },
  {
   "cell_type": "code",
   "execution_count": 31,
   "metadata": {},
   "outputs": [
    {
     "name": "stdout",
     "output_type": "stream",
     "text": [
      "France :\n",
      " 75 ème pays le plus égalitaire\n",
      " 190 ème pays le plus inégalitaire\n",
      "Indice de Gini : 0.33 \n",
      "\n"
     ]
    }
   ],
   "source": [
    "position_france = gini_classement[gini_classement['Country Name']=='France']\n",
    "print('France :\\n', \n",
    "        position_france.index[0], 'ème pays le plus égalitaire\\n',\n",
    "        len(gini_classement) + 1 - position_france.index[0], \n",
    "        'ème pays le plus inégalitaire\\nIndice de Gini :',\n",
    "        round(float(position_france['2008']/100), 2), '\\n')"
   ]
  },
  {
   "cell_type": "markdown",
   "metadata": {},
   "source": [
    "__________________"
   ]
  },
  {
   "cell_type": "markdown",
   "metadata": {},
   "source": [
    "### 4. Génération de la classe parent"
   ]
  },
  {
   "cell_type": "code",
   "execution_count": 32,
   "metadata": {},
   "outputs": [
    {
     "data": {
      "text/html": [
       "<div>\n",
       "<style scoped>\n",
       "    .dataframe tbody tr th:only-of-type {\n",
       "        vertical-align: middle;\n",
       "    }\n",
       "\n",
       "    .dataframe tbody tr th {\n",
       "        vertical-align: top;\n",
       "    }\n",
       "\n",
       "    .dataframe thead th {\n",
       "        text-align: right;\n",
       "    }\n",
       "</style>\n",
       "<table border=\"1\" class=\"dataframe\">\n",
       "  <thead>\n",
       "    <tr style=\"text-align: right;\">\n",
       "      <th></th>\n",
       "      <th>Country Code</th>\n",
       "      <th>country</th>\n",
       "      <th>quantile</th>\n",
       "      <th>nb_quantiles</th>\n",
       "      <th>income</th>\n",
       "      <th>gdpppp</th>\n",
       "      <th>gini</th>\n",
       "      <th>population</th>\n",
       "      <th>countryname</th>\n",
       "      <th>region</th>\n",
       "      <th>incgroup4</th>\n",
       "      <th>year</th>\n",
       "      <th>IGEincome</th>\n",
       "    </tr>\n",
       "  </thead>\n",
       "  <tbody>\n",
       "    <tr>\n",
       "      <th>0</th>\n",
       "      <td>ALB</td>\n",
       "      <td>ALB</td>\n",
       "      <td>1</td>\n",
       "      <td>100</td>\n",
       "      <td>728.89795</td>\n",
       "      <td>7297.0</td>\n",
       "      <td>30.0</td>\n",
       "      <td>2947314.0</td>\n",
       "      <td>Albania</td>\n",
       "      <td>Europe &amp; Central Asia</td>\n",
       "      <td>Upper middle income</td>\n",
       "      <td>1940</td>\n",
       "      <td>NaN</td>\n",
       "    </tr>\n",
       "    <tr>\n",
       "      <th>12</th>\n",
       "      <td>ALB</td>\n",
       "      <td>ALB</td>\n",
       "      <td>1</td>\n",
       "      <td>100</td>\n",
       "      <td>728.89795</td>\n",
       "      <td>7297.0</td>\n",
       "      <td>30.0</td>\n",
       "      <td>2947314.0</td>\n",
       "      <td>Albania</td>\n",
       "      <td>Europe &amp; Central Asia</td>\n",
       "      <td>Upper middle income</td>\n",
       "      <td>1950</td>\n",
       "      <td>NaN</td>\n",
       "    </tr>\n",
       "    <tr>\n",
       "      <th>24</th>\n",
       "      <td>ALB</td>\n",
       "      <td>ALB</td>\n",
       "      <td>1</td>\n",
       "      <td>100</td>\n",
       "      <td>728.89795</td>\n",
       "      <td>7297.0</td>\n",
       "      <td>30.0</td>\n",
       "      <td>2947314.0</td>\n",
       "      <td>Albania</td>\n",
       "      <td>Europe &amp; Central Asia</td>\n",
       "      <td>Upper middle income</td>\n",
       "      <td>1960</td>\n",
       "      <td>NaN</td>\n",
       "    </tr>\n",
       "    <tr>\n",
       "      <th>36</th>\n",
       "      <td>ALB</td>\n",
       "      <td>ALB</td>\n",
       "      <td>1</td>\n",
       "      <td>100</td>\n",
       "      <td>728.89795</td>\n",
       "      <td>7297.0</td>\n",
       "      <td>30.0</td>\n",
       "      <td>2947314.0</td>\n",
       "      <td>Albania</td>\n",
       "      <td>Europe &amp; Central Asia</td>\n",
       "      <td>Upper middle income</td>\n",
       "      <td>1970</td>\n",
       "      <td>0.815874</td>\n",
       "    </tr>\n",
       "    <tr>\n",
       "      <th>48</th>\n",
       "      <td>ALB</td>\n",
       "      <td>ALB</td>\n",
       "      <td>1</td>\n",
       "      <td>100</td>\n",
       "      <td>728.89795</td>\n",
       "      <td>7297.0</td>\n",
       "      <td>30.0</td>\n",
       "      <td>2947314.0</td>\n",
       "      <td>Albania</td>\n",
       "      <td>Europe &amp; Central Asia</td>\n",
       "      <td>Upper middle income</td>\n",
       "      <td>1980</td>\n",
       "      <td>NaN</td>\n",
       "    </tr>\n",
       "  </tbody>\n",
       "</table>\n",
       "</div>"
      ],
      "text/plain": [
       "   Country Code country  quantile  nb_quantiles     income  gdpppp  gini  \\\n",
       "0           ALB     ALB         1           100  728.89795  7297.0  30.0   \n",
       "12          ALB     ALB         1           100  728.89795  7297.0  30.0   \n",
       "24          ALB     ALB         1           100  728.89795  7297.0  30.0   \n",
       "36          ALB     ALB         1           100  728.89795  7297.0  30.0   \n",
       "48          ALB     ALB         1           100  728.89795  7297.0  30.0   \n",
       "\n",
       "    population countryname                 region            incgroup4  year  \\\n",
       "0    2947314.0     Albania  Europe & Central Asia  Upper middle income  1940   \n",
       "12   2947314.0     Albania  Europe & Central Asia  Upper middle income  1950   \n",
       "24   2947314.0     Albania  Europe & Central Asia  Upper middle income  1960   \n",
       "36   2947314.0     Albania  Europe & Central Asia  Upper middle income  1970   \n",
       "48   2947314.0     Albania  Europe & Central Asia  Upper middle income  1980   \n",
       "\n",
       "    IGEincome  \n",
       "0         NaN  \n",
       "12        NaN  \n",
       "24        NaN  \n",
       "36   0.815874  \n",
       "48        NaN  "
      ]
     },
     "execution_count": 32,
     "metadata": {},
     "output_type": "execute_result"
    }
   ],
   "source": [
    "gini_index = gini_index.reset_index()\n",
    "gini_index = gini_index[['Country Code','2004', '2006', '2007', '2008', \n",
    "                         '2009', '2010','2011']]\n",
    "data = pd.merge(donnees_monde, gini, left_on = 'country', right_on='Country Code')\n",
    "data = data[['Country Code', 'country', 'year_survey', 'quantile', \n",
    "             'nb_quantiles','income', 'gdpppp',  '2008', 'population']]\n",
    "data = data.rename(columns={'2008' : 'gini'})\n",
    "\n",
    "# Projection sur les colonnes utiles\n",
    "gdim = coeff_elasticite[['countryname', 'iso3', 'region', 'incgroup4', \n",
    "                         'year', 'IGEincome']]\n",
    "\n",
    "# Merge entre nos différents df\n",
    "data2 = pd.merge(data, gdim, left_on='country', right_on='iso3')\n",
    "data2 = data2.drop(columns=['iso3', 'year_survey'])\n",
    "data2 = data2.drop_duplicates()\n",
    "\n",
    "data2.head()"
   ]
  },
  {
   "cell_type": "markdown",
   "metadata": {},
   "source": [
    "#### 4.1. Protocole de génération pour un pays donné"
   ]
  },
  {
   "cell_type": "markdown",
   "metadata": {},
   "source": [
    "***Environnement de travail***"
   ]
  },
  {
   "cell_type": "code",
   "execution_count": 33,
   "metadata": {},
   "outputs": [],
   "source": [
    "def generate_incomes(n, pj):\n",
    "    ln_y_parent = st.norm(0,1).rvs(size=n)\n",
    "    residues = st.norm(0,1).rvs(size=n)\n",
    "    return np.exp(pj*ln_y_parent + residues), np.exp(ln_y_parent)\n",
    "\n",
    "def quantiles(l, nb_quantiles):\n",
    "    size = len(l)\n",
    "    l_sorted = l.copy()\n",
    "    l_sorted = l_sorted.sort_values()\n",
    "    quantiles = np.round(np.arange(1, nb_quantiles+1, nb_quantiles/size) -0.5 +1./size)\n",
    "    q_dict = {a:int(b) for a,b in zip(l_sorted,quantiles)}\n",
    "    return pd.Series([q_dict[e] for e in l])\n",
    "\n",
    "def compute_quantiles(y_child, y_parents, nb_quantiles):\n",
    "    y_child = pd.Series(y_child)\n",
    "    y_parents = pd.Series(y_parents)\n",
    "    c_i_child = quantiles(y_child, nb_quantiles)\n",
    "    c_i_parent = quantiles(y_parents, nb_quantiles)\n",
    "    sample = pd.concat([y_child, y_parents, c_i_child, c_i_parent], axis=1)\n",
    "    sample.columns = [\"y_child\", \"y_parents\", \"c_i_child\",\"c_i_parent\"]\n",
    "    return sample\n",
    "\n",
    "def distribution(counts, nb_quantiles):\n",
    "    distrib = []\n",
    "    total = counts[\"counts\"].sum()\n",
    "    \n",
    "    if total == 0 :\n",
    "        return [0] * nb_quantiles\n",
    "    \n",
    "    for q_p in range(1, nb_quantiles+1):\n",
    "        subset = counts[counts.c_i_parent == q_p]\n",
    "        if len(subset):\n",
    "            nb = subset[\"counts\"].values[0]\n",
    "            distrib += [nb / total]\n",
    "        else:\n",
    "            distrib += [0]\n",
    "    return distrib\n",
    "\n",
    "def conditional_distributions(sample, nb_quantiles):\n",
    "    counts = sample.groupby([\"c_i_child\",\"c_i_parent\"]).apply(len)\n",
    "    counts = counts.reset_index()\n",
    "    counts.columns = [\"c_i_child\",\"c_i_parent\",\"counts\"]\n",
    "    \n",
    "    mat = []\n",
    "    for child_quantile in np.arange(nb_quantiles)+1:\n",
    "        # on recupere les indivdus ou les enfants sont dans ce quantile\n",
    "        subset = counts[counts.c_i_child == child_quantile]\n",
    "        mat += [distribution(subset, nb_quantiles)]\n",
    "    return mat\n",
    "\n",
    "def proba_cond(c_i_parent, c_i_child, mat):\n",
    "    return mat[c_i_child][c_i_parent]\n",
    "\n",
    "def plot_conditional_distributions(p, cd, nb_quantiles):\n",
    "    plt.figure()\n",
    "    \n",
    "    # La ligne suivante sert à afficher un graphique en \"stack bars\", sur ce modèle : https://matplotlib.org/gallery/lines_bars_and_markers/bar_stacked.html\n",
    "    cumul = np.array([0] * nb_quantiles)\n",
    "    \n",
    "    for i, child_quantile in enumerate(cd):\n",
    "        plt.bar(np.arange(nb_quantiles)+1, child_quantile, bottom=cumul, width=0.95, label = str(i+1) +\"e\")\n",
    "        cumul = cumul + np.array(child_quantile)\n",
    "\n",
    "    plt.axis([.5, nb_quantiles*1.3 ,0 ,1])\n",
    "    plt.title(\"p=\" + str(p))\n",
    "    plt.legend()\n",
    "    plt.xlabel(\"quantile parents\")\n",
    "    plt.ylabel(\"probabilité du quantile enfant\")\n",
    "    plt.show()"
   ]
  },
  {
   "cell_type": "markdown",
   "metadata": {},
   "source": [
    "##### 4.1.1. Calcul de y_child"
   ]
  },
  {
   "cell_type": "code",
   "execution_count": 34,
   "metadata": {},
   "outputs": [],
   "source": [
    "pj = 0.9                 # coefficient d'élasticité du pays j\n",
    "nb_quantiles = 10        # nombre de quantiles (nombre de classes de revenu)\n",
    "n  = 1000*nb_quantiles   # taille de l'échantillon\n",
    "\n",
    "y_child, y_parents = generate_incomes(n, pj)"
   ]
  },
  {
   "cell_type": "markdown",
   "metadata": {},
   "source": [
    "##### 4.1.2. Calcul de la classe de revenus des enfants \"c_i_child\" à partir de \"y_child\" et \"y_parent\""
   ]
  },
  {
   "cell_type": "code",
   "execution_count": 35,
   "metadata": {},
   "outputs": [
    {
     "data": {
      "text/html": [
       "<div>\n",
       "<style scoped>\n",
       "    .dataframe tbody tr th:only-of-type {\n",
       "        vertical-align: middle;\n",
       "    }\n",
       "\n",
       "    .dataframe tbody tr th {\n",
       "        vertical-align: top;\n",
       "    }\n",
       "\n",
       "    .dataframe thead th {\n",
       "        text-align: right;\n",
       "    }\n",
       "</style>\n",
       "<table border=\"1\" class=\"dataframe\">\n",
       "  <thead>\n",
       "    <tr style=\"text-align: right;\">\n",
       "      <th></th>\n",
       "      <th>y_child</th>\n",
       "      <th>y_parents</th>\n",
       "      <th>c_i_child</th>\n",
       "      <th>c_i_parent</th>\n",
       "    </tr>\n",
       "  </thead>\n",
       "  <tbody>\n",
       "    <tr>\n",
       "      <th>0</th>\n",
       "      <td>2.866729</td>\n",
       "      <td>0.786657</td>\n",
       "      <td>8</td>\n",
       "      <td>5</td>\n",
       "    </tr>\n",
       "    <tr>\n",
       "      <th>1</th>\n",
       "      <td>1.689749</td>\n",
       "      <td>1.048232</td>\n",
       "      <td>7</td>\n",
       "      <td>6</td>\n",
       "    </tr>\n",
       "    <tr>\n",
       "      <th>2</th>\n",
       "      <td>0.410244</td>\n",
       "      <td>0.927945</td>\n",
       "      <td>3</td>\n",
       "      <td>5</td>\n",
       "    </tr>\n",
       "    <tr>\n",
       "      <th>3</th>\n",
       "      <td>2.553193</td>\n",
       "      <td>1.399120</td>\n",
       "      <td>8</td>\n",
       "      <td>7</td>\n",
       "    </tr>\n",
       "    <tr>\n",
       "      <th>4</th>\n",
       "      <td>6.986611</td>\n",
       "      <td>2.898505</td>\n",
       "      <td>10</td>\n",
       "      <td>9</td>\n",
       "    </tr>\n",
       "  </tbody>\n",
       "</table>\n",
       "</div>"
      ],
      "text/plain": [
       "    y_child  y_parents  c_i_child  c_i_parent\n",
       "0  2.866729   0.786657          8           5\n",
       "1  1.689749   1.048232          7           6\n",
       "2  0.410244   0.927945          3           5\n",
       "3  2.553193   1.399120          8           7\n",
       "4  6.986611   2.898505         10           9"
      ]
     },
     "execution_count": 35,
     "metadata": {},
     "output_type": "execute_result"
    }
   ],
   "source": [
    "sample = compute_quantiles(y_child, y_parents, nb_quantiles)\n",
    "sample.head()"
   ]
  },
  {
   "cell_type": "markdown",
   "metadata": {},
   "source": [
    "##### 4.1.3. Distribution conditionnelle de \"c_i_parent\""
   ]
  },
  {
   "cell_type": "code",
   "execution_count": 36,
   "metadata": {},
   "outputs": [],
   "source": [
    "cd = conditional_distributions(sample, nb_quantiles)"
   ]
  },
  {
   "cell_type": "markdown",
   "metadata": {},
   "source": [
    "##### 4.1.4. Représentation graphique des distributions conditionnelles"
   ]
  },
  {
   "cell_type": "markdown",
   "metadata": {},
   "source": [
    "***Faible mobilité (pj=0.9)***"
   ]
  },
  {
   "cell_type": "code",
   "execution_count": 37,
   "metadata": {},
   "outputs": [
    {
     "data": {
      "image/png": "[encoded data removed]",
      "text/plain": [
       "<Figure size 432x288 with 1 Axes>"
      ]
     },
     "metadata": {
      "needs_background": "light"
     },
     "output_type": "display_data"
    }
   ],
   "source": [
    "plot_conditional_distributions(0.9, cd, nb_quantiles)"
   ]
  },
  {
   "cell_type": "markdown",
   "metadata": {},
   "source": [
    "#### 4.1. Nouvel échantillon"
   ]
  },
  {
   "cell_type": "code",
   "execution_count": 38,
   "metadata": {},
   "outputs": [
    {
     "data": {
      "text/html": [
       "<div>\n",
       "<style scoped>\n",
       "    .dataframe tbody tr th:only-of-type {\n",
       "        vertical-align: middle;\n",
       "    }\n",
       "\n",
       "    .dataframe tbody tr th {\n",
       "        vertical-align: top;\n",
       "    }\n",
       "\n",
       "    .dataframe thead th {\n",
       "        text-align: right;\n",
       "    }\n",
       "</style>\n",
       "<table border=\"1\" class=\"dataframe\">\n",
       "  <thead>\n",
       "    <tr style=\"text-align: right;\">\n",
       "      <th></th>\n",
       "      <th>country</th>\n",
       "      <th>c_i_child</th>\n",
       "      <th>income_child</th>\n",
       "      <th>coeff_elasticite</th>\n",
       "      <th>c_i_parent</th>\n",
       "      <th>Gj</th>\n",
       "    </tr>\n",
       "  </thead>\n",
       "  <tbody>\n",
       "    <tr>\n",
       "      <th>0</th>\n",
       "      <td>ALB</td>\n",
       "      <td>1</td>\n",
       "      <td>728.89795</td>\n",
       "      <td>NaN</td>\n",
       "      <td>0</td>\n",
       "      <td>30.0</td>\n",
       "    </tr>\n",
       "    <tr>\n",
       "      <th>1</th>\n",
       "      <td>ALB</td>\n",
       "      <td>1</td>\n",
       "      <td>728.89795</td>\n",
       "      <td>NaN</td>\n",
       "      <td>0</td>\n",
       "      <td>30.0</td>\n",
       "    </tr>\n",
       "    <tr>\n",
       "      <th>2</th>\n",
       "      <td>ALB</td>\n",
       "      <td>1</td>\n",
       "      <td>728.89795</td>\n",
       "      <td>NaN</td>\n",
       "      <td>0</td>\n",
       "      <td>30.0</td>\n",
       "    </tr>\n",
       "    <tr>\n",
       "      <th>3</th>\n",
       "      <td>ALB</td>\n",
       "      <td>1</td>\n",
       "      <td>728.89795</td>\n",
       "      <td>0.815874</td>\n",
       "      <td>0</td>\n",
       "      <td>30.0</td>\n",
       "    </tr>\n",
       "    <tr>\n",
       "      <th>4</th>\n",
       "      <td>ALB</td>\n",
       "      <td>1</td>\n",
       "      <td>728.89795</td>\n",
       "      <td>NaN</td>\n",
       "      <td>0</td>\n",
       "      <td>30.0</td>\n",
       "    </tr>\n",
       "  </tbody>\n",
       "</table>\n",
       "</div>"
      ],
      "text/plain": [
       "  country  c_i_child  income_child  coeff_elasticite  c_i_parent    Gj\n",
       "0     ALB          1     728.89795               NaN           0  30.0\n",
       "1     ALB          1     728.89795               NaN           0  30.0\n",
       "2     ALB          1     728.89795               NaN           0  30.0\n",
       "3     ALB          1     728.89795          0.815874           0  30.0\n",
       "4     ALB          1     728.89795               NaN           0  30.0"
      ]
     },
     "execution_count": 38,
     "metadata": {},
     "output_type": "execute_result"
    }
   ],
   "source": [
    "del y_parents, y_child\n",
    "dist_cond = data2.copy()\n",
    "\n",
    "# On créé 499 copies de chaques enfants\n",
    "new_sample = dist_cond.append([dist_cond]*499, ignore_index=True)\n",
    "new_sample['c_i_parent'] = 0\n",
    "\n",
    "dist_cond2 = new_sample.copy()\n",
    "dist_pays = dist_cond2[['country', 'quantile', 'income', 'IGEincome', \n",
    "                        'c_i_parent', 'gini']]\n",
    "# Renomme\n",
    "dist_pays.columns = ['country', 'c_i_child', 'income_child', \n",
    "                     'coeff_elasticite', 'c_i_parent', 'Gj'] \n",
    "\n",
    "distrib_pays = dist_pays.copy()\n",
    "distrib_pays.head()"
   ]
  },
  {
   "cell_type": "markdown",
   "metadata": {},
   "source": [
    "##### 4.1.1. Attribution des classes des parents"
   ]
  },
  {
   "cell_type": "code",
   "execution_count": 39,
   "metadata": {},
   "outputs": [
    {
     "data": {
      "text/html": [
       "<div>\n",
       "<style scoped>\n",
       "    .dataframe tbody tr th:only-of-type {\n",
       "        vertical-align: middle;\n",
       "    }\n",
       "\n",
       "    .dataframe tbody tr th {\n",
       "        vertical-align: top;\n",
       "    }\n",
       "\n",
       "    .dataframe thead th {\n",
       "        text-align: right;\n",
       "    }\n",
       "</style>\n",
       "<table border=\"1\" class=\"dataframe\">\n",
       "  <thead>\n",
       "    <tr style=\"text-align: right;\">\n",
       "      <th></th>\n",
       "      <th>ln_y_parent</th>\n",
       "      <th>residus</th>\n",
       "      <th>country</th>\n",
       "      <th>income_child</th>\n",
       "      <th>coeff_elasticite</th>\n",
       "      <th>c_i_parent</th>\n",
       "      <th>Gj</th>\n",
       "      <th>y_child</th>\n",
       "      <th>y_parents</th>\n",
       "    </tr>\n",
       "  </thead>\n",
       "  <tbody>\n",
       "    <tr>\n",
       "      <th>0</th>\n",
       "      <td>0.566831</td>\n",
       "      <td>0.951167</td>\n",
       "      <td>ALB</td>\n",
       "      <td>728.89795</td>\n",
       "      <td>NaN</td>\n",
       "      <td>72</td>\n",
       "      <td>30.0</td>\n",
       "      <td>NaN</td>\n",
       "      <td>1.762672</td>\n",
       "    </tr>\n",
       "    <tr>\n",
       "      <th>1</th>\n",
       "      <td>-2.044726</td>\n",
       "      <td>0.435600</td>\n",
       "      <td>ALB</td>\n",
       "      <td>728.89795</td>\n",
       "      <td>NaN</td>\n",
       "      <td>3</td>\n",
       "      <td>30.0</td>\n",
       "      <td>NaN</td>\n",
       "      <td>0.129416</td>\n",
       "    </tr>\n",
       "    <tr>\n",
       "      <th>2</th>\n",
       "      <td>-0.163749</td>\n",
       "      <td>1.210706</td>\n",
       "      <td>ALB</td>\n",
       "      <td>728.89795</td>\n",
       "      <td>NaN</td>\n",
       "      <td>44</td>\n",
       "      <td>30.0</td>\n",
       "      <td>NaN</td>\n",
       "      <td>0.848955</td>\n",
       "    </tr>\n",
       "    <tr>\n",
       "      <th>3</th>\n",
       "      <td>0.386460</td>\n",
       "      <td>-0.091086</td>\n",
       "      <td>ALB</td>\n",
       "      <td>728.89795</td>\n",
       "      <td>0.815874</td>\n",
       "      <td>66</td>\n",
       "      <td>30.0</td>\n",
       "      <td>1.251342</td>\n",
       "      <td>1.471762</td>\n",
       "    </tr>\n",
       "    <tr>\n",
       "      <th>4</th>\n",
       "      <td>-0.107841</td>\n",
       "      <td>-1.312594</td>\n",
       "      <td>ALB</td>\n",
       "      <td>728.89795</td>\n",
       "      <td>NaN</td>\n",
       "      <td>46</td>\n",
       "      <td>30.0</td>\n",
       "      <td>NaN</td>\n",
       "      <td>0.897771</td>\n",
       "    </tr>\n",
       "  </tbody>\n",
       "</table>\n",
       "</div>"
      ],
      "text/plain": [
       "   ln_y_parent   residus country  income_child  coeff_elasticite  c_i_parent  \\\n",
       "0     0.566831  0.951167     ALB     728.89795               NaN          72   \n",
       "1    -2.044726  0.435600     ALB     728.89795               NaN           3   \n",
       "2    -0.163749  1.210706     ALB     728.89795               NaN          44   \n",
       "3     0.386460 -0.091086     ALB     728.89795          0.815874          66   \n",
       "4    -0.107841 -1.312594     ALB     728.89795               NaN          46   \n",
       "\n",
       "     Gj   y_child  y_parents  \n",
       "0  30.0       NaN   1.762672  \n",
       "1  30.0       NaN   0.129416  \n",
       "2  30.0       NaN   0.848955  \n",
       "3  30.0  1.251342   1.471762  \n",
       "4  30.0       NaN   0.897771  "
      ]
     },
     "execution_count": 39,
     "metadata": {},
     "output_type": "execute_result"
    }
   ],
   "source": [
    "nb_quantiles = 100       # nombre de quantiles (nombre de classes de revenu)\n",
    "n  = len(distrib_pays) # taille de l'échantillon\n",
    "ln_y_parent = st.norm(0,1).rvs(size=n)\n",
    "residus = st.norm(0,1).rvs(size=n)\n",
    "\n",
    "distrib_pays2 = pd.concat([\n",
    "    pd.DataFrame(list(zip(ln_y_parent, residus)), columns=['ln_y_parent','residus']), \n",
    "    distrib_pays], axis=1)\n",
    "\n",
    "def generate_y_child(n, pj):\n",
    "    return np.exp(pj * ln_y_parent + residus)\n",
    "\n",
    "def generate_y_parents(n, pj):\n",
    "    return np.exp(ln_y_parent)\n",
    "\n",
    "distrib_pays2['y_child'] = 0\n",
    "distrib_pays2['y_child'] = generate_y_child(n, distrib_pays['coeff_elasticite'])\n",
    "distrib_pays2['y_parents'] = 0\n",
    "distrib_pays2['y_parents'] = generate_y_parents(n, distrib_pays['coeff_elasticite'])\n",
    "\n",
    "distrib_pays2['c_i_child'] = pd.qcut(distrib_pays2['y_child'], 100, labels=False) +1\n",
    "distrib_pays2['c_i_parent'] = pd.qcut(distrib_pays2['y_parents'], 100, labels=False) +1\n",
    "\n",
    "# Suppression de la variable c_i_child inutile pour la mission 4\n",
    "distrib_pays2.drop(columns='c_i_child', inplace=True)\n",
    "\n",
    "distrib_pays2.head()"
   ]
  },
  {
   "cell_type": "code",
   "execution_count": 40,
   "metadata": {},
   "outputs": [
    {
     "data": {
      "text/html": [
       "<div>\n",
       "<style scoped>\n",
       "    .dataframe tbody tr th:only-of-type {\n",
       "        vertical-align: middle;\n",
       "    }\n",
       "\n",
       "    .dataframe tbody tr th {\n",
       "        vertical-align: top;\n",
       "    }\n",
       "\n",
       "    .dataframe thead th {\n",
       "        text-align: right;\n",
       "    }\n",
       "</style>\n",
       "<table border=\"1\" class=\"dataframe\">\n",
       "  <thead>\n",
       "    <tr style=\"text-align: right;\">\n",
       "      <th></th>\n",
       "      <th>country</th>\n",
       "      <th>mj</th>\n",
       "    </tr>\n",
       "  </thead>\n",
       "  <tbody>\n",
       "    <tr>\n",
       "      <th>0</th>\n",
       "      <td>ALB</td>\n",
       "      <td>2994.829902</td>\n",
       "    </tr>\n",
       "    <tr>\n",
       "      <th>1</th>\n",
       "      <td>ARG</td>\n",
       "      <td>5847.884654</td>\n",
       "    </tr>\n",
       "    <tr>\n",
       "      <th>2</th>\n",
       "      <td>ARM</td>\n",
       "      <td>1628.382785</td>\n",
       "    </tr>\n",
       "    <tr>\n",
       "      <th>3</th>\n",
       "      <td>AUT</td>\n",
       "      <td>16637.600204</td>\n",
       "    </tr>\n",
       "    <tr>\n",
       "      <th>4</th>\n",
       "      <td>AZE</td>\n",
       "      <td>2357.429023</td>\n",
       "    </tr>\n",
       "  </tbody>\n",
       "</table>\n",
       "</div>"
      ],
      "text/plain": [
       "  country            mj\n",
       "0     ALB   2994.829902\n",
       "1     ARG   5847.884654\n",
       "2     ARM   1628.382785\n",
       "3     AUT  16637.600204\n",
       "4     AZE   2357.429023"
      ]
     },
     "execution_count": 40,
     "metadata": {},
     "output_type": "execute_result"
    }
   ],
   "source": [
    "# Création d'un dataframe avec la variable revenu moyen du pays\n",
    "y_child_moy_df = distrib_pays2.groupby(by='country').mean()\n",
    "y_child_moy_df.reset_index(inplace=True)\n",
    "y_child_moy_df = y_child_moy_df[['country', 'income_child']]\n",
    "y_child_moy_df.rename(columns={'income_child': 'mj'}, inplace=True)\n",
    "\n",
    "y_child_moy_df.head()"
   ]
  },
  {
   "cell_type": "code",
   "execution_count": 41,
   "metadata": {},
   "outputs": [
    {
     "data": {
      "text/html": [
       "<div>\n",
       "<style scoped>\n",
       "    .dataframe tbody tr th:only-of-type {\n",
       "        vertical-align: middle;\n",
       "    }\n",
       "\n",
       "    .dataframe tbody tr th {\n",
       "        vertical-align: top;\n",
       "    }\n",
       "\n",
       "    .dataframe thead th {\n",
       "        text-align: right;\n",
       "    }\n",
       "</style>\n",
       "<table border=\"1\" class=\"dataframe\">\n",
       "  <thead>\n",
       "    <tr style=\"text-align: right;\">\n",
       "      <th></th>\n",
       "      <th>ln_y_parent</th>\n",
       "      <th>residus</th>\n",
       "      <th>country</th>\n",
       "      <th>income_child</th>\n",
       "      <th>coeff_elasticite</th>\n",
       "      <th>c_i_parent</th>\n",
       "      <th>Gj</th>\n",
       "      <th>y_child</th>\n",
       "      <th>y_parents</th>\n",
       "      <th>mj</th>\n",
       "      <th>ln_y_child</th>\n",
       "      <th>ln_mj</th>\n",
       "    </tr>\n",
       "  </thead>\n",
       "  <tbody>\n",
       "    <tr>\n",
       "      <th>0</th>\n",
       "      <td>0.566831</td>\n",
       "      <td>0.951167</td>\n",
       "      <td>ALB</td>\n",
       "      <td>728.89795</td>\n",
       "      <td>NaN</td>\n",
       "      <td>72</td>\n",
       "      <td>30.0</td>\n",
       "      <td>NaN</td>\n",
       "      <td>1.762672</td>\n",
       "      <td>2994.829902</td>\n",
       "      <td>6.591534</td>\n",
       "      <td>8.004643</td>\n",
       "    </tr>\n",
       "    <tr>\n",
       "      <th>1</th>\n",
       "      <td>-2.044726</td>\n",
       "      <td>0.435600</td>\n",
       "      <td>ALB</td>\n",
       "      <td>728.89795</td>\n",
       "      <td>NaN</td>\n",
       "      <td>3</td>\n",
       "      <td>30.0</td>\n",
       "      <td>NaN</td>\n",
       "      <td>0.129416</td>\n",
       "      <td>2994.829902</td>\n",
       "      <td>6.591534</td>\n",
       "      <td>8.004643</td>\n",
       "    </tr>\n",
       "    <tr>\n",
       "      <th>2</th>\n",
       "      <td>-0.163749</td>\n",
       "      <td>1.210706</td>\n",
       "      <td>ALB</td>\n",
       "      <td>728.89795</td>\n",
       "      <td>NaN</td>\n",
       "      <td>44</td>\n",
       "      <td>30.0</td>\n",
       "      <td>NaN</td>\n",
       "      <td>0.848955</td>\n",
       "      <td>2994.829902</td>\n",
       "      <td>6.591534</td>\n",
       "      <td>8.004643</td>\n",
       "    </tr>\n",
       "    <tr>\n",
       "      <th>3</th>\n",
       "      <td>0.386460</td>\n",
       "      <td>-0.091086</td>\n",
       "      <td>ALB</td>\n",
       "      <td>728.89795</td>\n",
       "      <td>0.815874</td>\n",
       "      <td>66</td>\n",
       "      <td>30.0</td>\n",
       "      <td>1.251342</td>\n",
       "      <td>1.471762</td>\n",
       "      <td>2994.829902</td>\n",
       "      <td>6.591534</td>\n",
       "      <td>8.004643</td>\n",
       "    </tr>\n",
       "    <tr>\n",
       "      <th>4</th>\n",
       "      <td>-0.107841</td>\n",
       "      <td>-1.312594</td>\n",
       "      <td>ALB</td>\n",
       "      <td>728.89795</td>\n",
       "      <td>NaN</td>\n",
       "      <td>46</td>\n",
       "      <td>30.0</td>\n",
       "      <td>NaN</td>\n",
       "      <td>0.897771</td>\n",
       "      <td>2994.829902</td>\n",
       "      <td>6.591534</td>\n",
       "      <td>8.004643</td>\n",
       "    </tr>\n",
       "  </tbody>\n",
       "</table>\n",
       "</div>"
      ],
      "text/plain": [
       "   ln_y_parent   residus country  income_child  coeff_elasticite  c_i_parent  \\\n",
       "0     0.566831  0.951167     ALB     728.89795               NaN          72   \n",
       "1    -2.044726  0.435600     ALB     728.89795               NaN           3   \n",
       "2    -0.163749  1.210706     ALB     728.89795               NaN          44   \n",
       "3     0.386460 -0.091086     ALB     728.89795          0.815874          66   \n",
       "4    -0.107841 -1.312594     ALB     728.89795               NaN          46   \n",
       "\n",
       "     Gj   y_child  y_parents           mj  ln_y_child     ln_mj  \n",
       "0  30.0       NaN   1.762672  2994.829902    6.591534  8.004643  \n",
       "1  30.0       NaN   0.129416  2994.829902    6.591534  8.004643  \n",
       "2  30.0       NaN   0.848955  2994.829902    6.591534  8.004643  \n",
       "3  30.0  1.251342   1.471762  2994.829902    6.591534  8.004643  \n",
       "4  30.0       NaN   0.897771  2994.829902    6.591534  8.004643  "
      ]
     },
     "execution_count": 41,
     "metadata": {},
     "output_type": "execute_result"
    }
   ],
   "source": [
    "# Ajout de la colonne y_child_moy\n",
    "bdd_p7 = pd.merge(distrib_pays2, y_child_moy_df, on='country')\n",
    "# Ajout des colonnes 'logarithmes'\n",
    "bdd_p7['ln_y_child'] = np.log(bdd_p7['income_child'])\n",
    "bdd_p7['ln_mj'] = np.log(bdd_p7['mj'])\n",
    "\n",
    "bdd_p7.head()"
   ]
  },
  {
   "cell_type": "markdown",
   "metadata": {},
   "source": [
    "____________________"
   ]
  },
  {
   "cell_type": "markdown",
   "metadata": {},
   "source": [
    "### 5. Explication du revenu des individus en fonction de plusieurs variables"
   ]
  },
  {
   "cell_type": "markdown",
   "metadata": {},
   "source": [
    "#### 5.1. Représentation graphique des revenus des pays"
   ]
  },
  {
   "cell_type": "markdown",
   "metadata": {},
   "source": [
    "***Boxplots pour les pays représentatifs***"
   ]
  },
  {
   "cell_type": "code",
   "execution_count": 42,
   "metadata": {},
   "outputs": [
    {
     "data": {
      "image/png": "[encoded data removed]",
      "text/plain": [
       "<Figure size 2160x1080 with 1 Axes>"
      ]
     },
     "metadata": {
      "needs_background": "light"
     },
     "output_type": "display_data"
    }
   ],
   "source": [
    "pays_rep = ['GBR','DEU','THA','MLI']\n",
    "incomes_pays = bdd_p7[bdd_p7['country'].isin(pays_rep)]\n",
    "\n",
    "plt.figure(figsize=(30,15))\n",
    "\n",
    "sns.boxplot(\n",
    "    data=incomes_pays, \n",
    "    x='income_child', y='country', showmeans=True)\n",
    "\n",
    "plt.title(\"Distribution des revenus des pays représentatifs\", size=20)\n",
    "plt.ylabel(\"pays\", size=15)\n",
    "plt.xlabel(\"montant des revenus\", size=15)\n",
    "\n",
    "plt.savefig(\"/Users/anissa/05_Boxplots revenus (pays représentatifs).jpg\", dpi=1200)\n",
    "plt.show()"
   ]
  },
  {
   "cell_type": "markdown",
   "metadata": {},
   "source": [
    "***Boxplots pour tous les pays***"
   ]
  },
  {
   "cell_type": "code",
   "execution_count": 43,
   "metadata": {},
   "outputs": [
    {
     "data": {
      "image/png": "[encoded data removed]",
      "text/plain": [
       "<Figure size 2160x1080 with 1 Axes>"
      ]
     },
     "metadata": {
      "needs_background": "light"
     },
     "output_type": "display_data"
    }
   ],
   "source": [
    "plt.figure(figsize=(30,15))\n",
    "\n",
    "sns.boxplot(\n",
    "    data=bdd_p7, \n",
    "    x='income_child', y='country', \n",
    "    showfliers=False, showmeans=True)\n",
    "\n",
    "plt.title(\"Distribution des revenus des pays\", size=20)\n",
    "plt.ylabel(\"pays\", size=15)\n",
    "plt.xlabel(\"montant des revenus\", size=15)\n",
    "\n",
    "plt.savefig(\"/Users/anissa/06_Boxplots revenus.jpg\", dpi=1200)\n",
    "plt.show()"
   ]
  },
  {
   "cell_type": "markdown",
   "metadata": {},
   "source": [
    "On observe que les revenus **diffèrent selon les pays**. Nous allons donc vérifier cette observation grâce à l'ANOVA."
   ]
  },
  {
   "cell_type": "markdown",
   "metadata": {},
   "source": [
    "#### 5.2. ANOVA : le revenu diffère-t-il en fonction des pays ?"
   ]
  },
  {
   "cell_type": "code",
   "execution_count": 44,
   "metadata": {},
   "outputs": [
    {
     "data": {
      "text/html": [
       "<table class=\"simpletable\">\n",
       "<caption>OLS Regression Results</caption>\n",
       "<tr>\n",
       "  <th>Dep. Variable:</th>         <td>income</td>      <th>  R-squared:         </th>  <td>   0.478</td>  \n",
       "</tr>\n",
       "<tr>\n",
       "  <th>Model:</th>                   <td>OLS</td>       <th>  Adj. R-squared:    </th>  <td>   0.477</td>  \n",
       "</tr>\n",
       "<tr>\n",
       "  <th>Method:</th>             <td>Least Squares</td>  <th>  F-statistic:       </th>  <td>   408.8</td>  \n",
       "</tr>\n",
       "<tr>\n",
       "  <th>Date:</th>             <td>Sun, 08 Aug 2021</td> <th>  Prob (F-statistic):</th>   <td>  0.00</td>   \n",
       "</tr>\n",
       "<tr>\n",
       "  <th>Time:</th>                 <td>17:17:22</td>     <th>  Log-Likelihood:    </th> <td>-5.1402e+05</td>\n",
       "</tr>\n",
       "<tr>\n",
       "  <th>No. Observations:</th>      <td> 50100</td>      <th>  AIC:               </th>  <td>1.028e+06</td> \n",
       "</tr>\n",
       "<tr>\n",
       "  <th>Df Residuals:</th>          <td> 49987</td>      <th>  BIC:               </th>  <td>1.029e+06</td> \n",
       "</tr>\n",
       "<tr>\n",
       "  <th>Df Model:</th>              <td>   112</td>      <th>                     </th>      <td> </td>     \n",
       "</tr>\n",
       "<tr>\n",
       "  <th>Covariance Type:</th>      <td>nonrobust</td>    <th>                     </th>      <td> </td>     \n",
       "</tr>\n",
       "</table>"
      ],
      "text/plain": [
       "<class 'statsmodels.iolib.table.SimpleTable'>"
      ]
     },
     "execution_count": 44,
     "metadata": {},
     "output_type": "execute_result"
    }
   ],
   "source": [
    "alpha = 0.05\n",
    "\n",
    "anova_pays = smf.ols('income~country', data=data2).fit(alpha=alpha)\n",
    "anova_pays.summary().tables[0]"
   ]
  },
  {
   "cell_type": "code",
   "execution_count": 45,
   "metadata": {},
   "outputs": [
    {
     "name": "stdout",
     "output_type": "stream",
     "text": [
      "Coefficient de détermination: 0.47805097488754233\n",
      "Le pays d'origine explique environ 47.8 % de la variance de la variable \"income\"\n"
     ]
    }
   ],
   "source": [
    "print(\"Coefficient de détermination:\", anova_pays.rsquared)\n",
    "print(\"Le pays d'origine explique environ\", 100*round(anova_pays.rsquared, 3), '% de la variance de la variable \"income\"')"
   ]
  },
  {
   "cell_type": "markdown",
   "metadata": {},
   "source": [
    "Nous posons donc les hypothèses suivantes :  \n",
    "$H_0$ : Le pays d'origine n'a aucune influence sur le revenu de l'individu.  \n",
    "$H_1$ : Le pays d'origine influence le revenu de l'individu.  "
   ]
  },
  {
   "cell_type": "code",
   "execution_count": 46,
   "metadata": {},
   "outputs": [
    {
     "data": {
      "text/html": [
       "<div>\n",
       "<style scoped>\n",
       "    .dataframe tbody tr th:only-of-type {\n",
       "        vertical-align: middle;\n",
       "    }\n",
       "\n",
       "    .dataframe tbody tr th {\n",
       "        vertical-align: top;\n",
       "    }\n",
       "\n",
       "    .dataframe thead th {\n",
       "        text-align: right;\n",
       "    }\n",
       "</style>\n",
       "<table border=\"1\" class=\"dataframe\">\n",
       "  <thead>\n",
       "    <tr style=\"text-align: right;\">\n",
       "      <th></th>\n",
       "      <th>df</th>\n",
       "      <th>sum_sq</th>\n",
       "      <th>mean_sq</th>\n",
       "      <th>F</th>\n",
       "      <th>PR(&gt;F)</th>\n",
       "    </tr>\n",
       "  </thead>\n",
       "  <tbody>\n",
       "    <tr>\n",
       "      <th>country</th>\n",
       "      <td>112.0</td>\n",
       "      <td>2.192111e+12</td>\n",
       "      <td>1.957242e+10</td>\n",
       "      <td>408.775791</td>\n",
       "      <td>0.0</td>\n",
       "    </tr>\n",
       "    <tr>\n",
       "      <th>Residual</th>\n",
       "      <td>49987.0</td>\n",
       "      <td>2.393406e+12</td>\n",
       "      <td>4.788058e+07</td>\n",
       "      <td>NaN</td>\n",
       "      <td>NaN</td>\n",
       "    </tr>\n",
       "  </tbody>\n",
       "</table>\n",
       "</div>"
      ],
      "text/plain": [
       "               df        sum_sq       mean_sq           F  PR(>F)\n",
       "country     112.0  2.192111e+12  1.957242e+10  408.775791     0.0\n",
       "Residual  49987.0  2.393406e+12  4.788058e+07         NaN     NaN"
      ]
     },
     "execution_count": 46,
     "metadata": {},
     "output_type": "execute_result"
    }
   ],
   "source": [
    "# Affichage du résultat de l'ANOVA\n",
    "test = sm.stats.anova_lm(anova_pays, typ=1)\n",
    "test"
   ]
  },
  {
   "cell_type": "markdown",
   "metadata": {},
   "source": [
    "Au niveau de test 5%, nous rejetons l'hypothèse $H_0$. Selon ce test, le pays d'origine _influence_ donc les revenus.  \n",
    "Cependant, nous devons vérifier certaines conditions afin de valider l'ANOVA : la **normalité des résidus** et l'**homogénéité des variances**."
   ]
  },
  {
   "cell_type": "markdown",
   "metadata": {},
   "source": [
    "#### 5.3. Vérification des conditions de validation de l'ANOVA"
   ]
  },
  {
   "cell_type": "markdown",
   "metadata": {},
   "source": [
    "##### 5.3.1. Représentation graphique des résidus : droite de Henry"
   ]
  },
  {
   "cell_type": "code",
   "execution_count": 47,
   "metadata": {},
   "outputs": [
    {
     "data": {
      "image/png": "[encoded data removed]",
      "text/plain": [
       "<Figure size 432x360 with 1 Axes>"
      ]
     },
     "metadata": {
      "needs_background": "light"
     },
     "output_type": "display_data"
    }
   ],
   "source": [
    "def residus_henry(MODEL, nom, couleur, ax):\n",
    "    sm.qqplot(MODEL.resid, ax=ax, line=\"45\", fit=True, color=couleur)\n",
    "    ax.set_title(\"Droite de Henry\", fontsize=20)\n",
    "    ax.set_xlabel(\"Quantiles théoriques\" ,fontsize=15), ax.set_ylabel(\"Quantiles observés\", fontsize=16)\n",
    "fig, ax = plt.subplots(1, 1, figsize=(6, 5))\n",
    "residus_henry(anova_pays, \"ANOVA\", \"brown\", ax) ; \n",
    "\n",
    "plt.show()"
   ]
  },
  {
   "cell_type": "markdown",
   "metadata": {},
   "source": [
    "Remarque : on observe que les résidus ne suivraient pas une loi normale. On effectuera une test de Kolmogorov-Smirnov pour l'affirmer ou non."
   ]
  },
  {
   "cell_type": "markdown",
   "metadata": {},
   "source": [
    "##### 5.3.2. Test d'adéquation à la loi normale : Kolmogorov-Smirnov"
   ]
  },
  {
   "cell_type": "code",
   "execution_count": 48,
   "metadata": {},
   "outputs": [
    {
     "name": "stdout",
     "output_type": "stream",
     "text": [
      "TEST DE KOLMOGOROV-SMIRNOV:  statistic = 0.2431536926147705  pvalue = 0.0\n"
     ]
    }
   ],
   "source": [
    "def test_residus_KS(MODEL):\n",
    "    MR=MODEL.resid\n",
    "    KS=ks_2samp(MR,list(np.random.normal(MR.mean(), MR.std(), len(MR))))\n",
    "    print(\"TEST DE KOLMOGOROV-SMIRNOV:\", \" statistic =\", KS[0], \" pvalue =\", KS[1])\n",
    "\n",
    "test_residus_KS(anova_pays) # ne suit pas une loi normale"
   ]
  },
  {
   "cell_type": "markdown",
   "metadata": {},
   "source": [
    "##### 5.3.3. Vérification de l'homoscédasticité des résidus : Breusch-Pagan"
   ]
  },
  {
   "cell_type": "code",
   "execution_count": 49,
   "metadata": {},
   "outputs": [
    {
     "name": "stdout",
     "output_type": "stream",
     "text": [
      "TEST DE BREUSCH-PAGAN:  statistic = 1766.470301026393  pvalue = 2.3673043941505864e-295\n"
     ]
    }
   ],
   "source": [
    "def test_residus_BP(MODEL):\n",
    "    BP=sm.stats.diagnostic.het_breuschpagan(MODEL.resid, MODEL.model.exog)\n",
    "    print(\"TEST DE BREUSCH-PAGAN:\", \" statistic =\", BP[0], \" pvalue =\", BP[1])\n",
    "    \n",
    "test_residus_BP(anova_pays) # hétérogénéité"
   ]
  },
  {
   "cell_type": "markdown",
   "metadata": {},
   "source": [
    "Les conditions ne sont pas validées, nous devons procéder à une alternative de l'ANOVA pour vérifier si les revenus sont bien différents selon les pays. Un test de **Kruskal-Wallis** sera donc réalisé."
   ]
  },
  {
   "cell_type": "markdown",
   "metadata": {},
   "source": [
    "##### 5.3.4. Alternative à l'ANOVA : Kruskal-Wallis"
   ]
  },
  {
   "cell_type": "code",
   "execution_count": 50,
   "metadata": {},
   "outputs": [
    {
     "data": {
      "text/html": [
       "<div>\n",
       "<style scoped>\n",
       "    .dataframe tbody tr th:only-of-type {\n",
       "        vertical-align: middle;\n",
       "    }\n",
       "\n",
       "    .dataframe tbody tr th {\n",
       "        vertical-align: top;\n",
       "    }\n",
       "\n",
       "    .dataframe thead th {\n",
       "        text-align: right;\n",
       "    }\n",
       "</style>\n",
       "<table border=\"1\" class=\"dataframe\">\n",
       "  <thead>\n",
       "    <tr style=\"text-align: right;\">\n",
       "      <th></th>\n",
       "      <th>Source</th>\n",
       "      <th>ddof1</th>\n",
       "      <th>H</th>\n",
       "      <th>p-unc</th>\n",
       "    </tr>\n",
       "  </thead>\n",
       "  <tbody>\n",
       "    <tr>\n",
       "      <th>Kruskal</th>\n",
       "      <td>country</td>\n",
       "      <td>112</td>\n",
       "      <td>36709.606357</td>\n",
       "      <td>0.0</td>\n",
       "    </tr>\n",
       "  </tbody>\n",
       "</table>\n",
       "</div>"
      ],
      "text/plain": [
       "          Source  ddof1             H  p-unc\n",
       "Kruskal  country    112  36709.606357    0.0"
      ]
     },
     "execution_count": 50,
     "metadata": {},
     "output_type": "execute_result"
    }
   ],
   "source": [
    "pg.kruskal(data2, dv='income', between='country')"
   ]
  },
  {
   "cell_type": "markdown",
   "metadata": {},
   "source": [
    "La p-value est encore inférieure à 5%, et valide l'ANOVA précédente : les revenus moyens **diffèrent** bien entre pays."
   ]
  },
  {
   "cell_type": "markdown",
   "metadata": {},
   "source": [
    "#### 5.4. Passage aux logarithmes"
   ]
  },
  {
   "cell_type": "markdown",
   "metadata": {},
   "source": [
    "##### 5.4.1. Comparaison de la distribution de la variable \"y_child\" avant et après le passage aux logarithmes"
   ]
  },
  {
   "cell_type": "code",
   "execution_count": 67,
   "metadata": {},
   "outputs": [
    {
     "data": {
      "text/plain": [
       "<Figure size 1440x1440 with 0 Axes>"
      ]
     },
     "metadata": {},
     "output_type": "display_data"
    },
    {
     "data": {
      "image/png": "[encoded data removed]",
      "text/plain": [
       "<Figure size 360x360 with 1 Axes>"
      ]
     },
     "metadata": {
      "needs_background": "light"
     },
     "output_type": "display_data"
    }
   ],
   "source": [
    "plt.figure(figsize = (20,20))\n",
    "\n",
    "sns.displot(bdd_p7[\"y_child\"],\n",
    "                     kde=True,\n",
    "                  color='#D9BFE0')\n",
    "\n",
    "plt.axvline(x=bdd_p7[\"y_child\"].mean(), label='Moyenne', linestyle='-', linewidth=2)\n",
    "plt.axvline(x=bdd_p7[\"y_child\"].median(), label='Médiane', linestyle='--', linewidth=2)\n",
    "plt.xlabel('y_child', size=15)\n",
    "plt.ylabel('fréquence', size=15)\n",
    "plt.title('Répartition de la variable y_child \\ndans notre échantillon', size=15)\n",
    "plt.legend(prop={\"size\":15})\n",
    "\n",
    "plt.savefig(\"/Users/anissa/07_Répartition de la variable y_child dans notre échantillon.jpg\", dpi=1200)\n",
    "plt.show()"
   ]
  },
  {
   "cell_type": "code",
   "execution_count": 68,
   "metadata": {},
   "outputs": [
    {
     "data": {
      "text/plain": [
       "<Figure size 1440x1440 with 0 Axes>"
      ]
     },
     "metadata": {},
     "output_type": "display_data"
    },
    {
     "data": {
      "image/png": "[encoded data removed]",
      "text/plain": [
       "<Figure size 360x360 with 1 Axes>"
      ]
     },
     "metadata": {
      "needs_background": "light"
     },
     "output_type": "display_data"
    }
   ],
   "source": [
    "plt.figure(figsize = (20,20))\n",
    "\n",
    "sns.displot(bdd_p7[\"ln_y_child\"],\n",
    "                     kde=True,\n",
    "                  color='#D9BFE0')\n",
    "\n",
    "plt.axvline(x=bdd_p7[\"ln_y_child\"].mean(), label='Moyenne', linestyle='-', linewidth=2)\n",
    "plt.axvline(x=bdd_p7[\"ln_y_child\"].median(), label='Médiane', linestyle='--', linewidth=2)\n",
    "plt.xlabel('ln_y_child', size=15)\n",
    "plt.ylabel('fréquence', size=15)\n",
    "plt.title('Répartition de la variable ln_y_child \\ndans notre échantillon', size=15)\n",
    "plt.legend(prop={'size':15})\n",
    "\n",
    "plt.savefig(\"/Users/anissa/08_Répartition de la variable ln_y_child dans notre échantillon.jpg\", dpi=1200)\n",
    "\n",
    "plt.show()"
   ]
  },
  {
   "cell_type": "markdown",
   "metadata": {},
   "source": [
    "Remarque : le passage aux logarithmes nous permet d'avoir un modèle plus robuste, améliore l'ajustement du modèle, d'avoir des résidus symétriques. La distribution est donc plus **proche d'une distribution gaussienne**."
   ]
  },
  {
   "cell_type": "markdown",
   "metadata": {},
   "source": [
    "#### 5.2. Regression linéaire : Revenu moyen du pays et indice de Gini"
   ]
  },
  {
   "cell_type": "markdown",
   "metadata": {},
   "source": [
    "##### 5.2.1. Sans le passage aux logarithmes"
   ]
  },
  {
   "cell_type": "markdown",
   "metadata": {},
   "source": [
    "Hypothèses :  \n",
    "    On émet deux à deux les quatre hypothèses de test:  \n",
    "$H0$: le paramètre de la variable n'est pas significatif.  \n",
    "$H1$: le paramètre de la variable est significatif.  "
   ]
  },
  {
   "cell_type": "code",
   "execution_count": 53,
   "metadata": {},
   "outputs": [
    {
     "data": {
      "text/html": [
       "<table class=\"simpletable\">\n",
       "<caption>OLS Regression Results</caption>\n",
       "<tr>\n",
       "  <th>Dep. Variable:</th>         <td>y_child</td>     <th>  R-squared:         </th>  <td>   0.004</td>  \n",
       "</tr>\n",
       "<tr>\n",
       "  <th>Model:</th>                   <td>OLS</td>       <th>  Adj. R-squared:    </th>  <td>   0.004</td>  \n",
       "</tr>\n",
       "<tr>\n",
       "  <th>Method:</th>             <td>Least Squares</td>  <th>  F-statistic:       </th>  <td>   3806.</td>  \n",
       "</tr>\n",
       "<tr>\n",
       "  <th>Date:</th>             <td>Sun, 08 Aug 2021</td> <th>  Prob (F-statistic):</th>   <td>  0.00</td>   \n",
       "</tr>\n",
       "<tr>\n",
       "  <th>Time:</th>                 <td>17:19:37</td>     <th>  Log-Likelihood:    </th> <td>-5.6544e+06</td>\n",
       "</tr>\n",
       "<tr>\n",
       "  <th>No. Observations:</th>      <td>2100000</td>     <th>  AIC:               </th>  <td>1.131e+07</td> \n",
       "</tr>\n",
       "<tr>\n",
       "  <th>Df Residuals:</th>          <td>2099997</td>     <th>  BIC:               </th>  <td>1.131e+07</td> \n",
       "</tr>\n",
       "<tr>\n",
       "  <th>Df Model:</th>              <td>     2</td>      <th>                     </th>      <td> </td>     \n",
       "</tr>\n",
       "<tr>\n",
       "  <th>Covariance Type:</th>      <td>nonrobust</td>    <th>                     </th>      <td> </td>     \n",
       "</tr>\n",
       "</table>\n",
       "<table class=\"simpletable\">\n",
       "<tr>\n",
       "      <td></td>         <th>coef</th>     <th>std err</th>      <th>t</th>      <th>P>|t|</th>  <th>[0.025</th>    <th>0.975]</th>  \n",
       "</tr>\n",
       "<tr>\n",
       "  <th>Intercept</th> <td>    1.4776</td> <td>    0.013</td> <td>  115.507</td> <td> 0.000</td> <td>    1.452</td> <td>    1.503</td>\n",
       "</tr>\n",
       "<tr>\n",
       "  <th>mj</th>        <td>-1.398e-05</td> <td> 3.73e-07</td> <td>  -37.447</td> <td> 0.000</td> <td>-1.47e-05</td> <td>-1.32e-05</td>\n",
       "</tr>\n",
       "<tr>\n",
       "  <th>Gj</th>        <td>    0.0167</td> <td>    0.000</td> <td>   57.353</td> <td> 0.000</td> <td>    0.016</td> <td>    0.017</td>\n",
       "</tr>\n",
       "</table>\n",
       "<table class=\"simpletable\">\n",
       "<tr>\n",
       "  <th>Omnibus:</th>       <td>4669054.004</td> <th>  Durbin-Watson:     </th>     <td>   1.986</td>    \n",
       "</tr>\n",
       "<tr>\n",
       "  <th>Prob(Omnibus):</th>   <td> 0.000</td>    <th>  Jarque-Bera (JB):  </th> <td>220791102184.372</td>\n",
       "</tr>\n",
       "<tr>\n",
       "  <th>Skew:</th>            <td>19.847</td>    <th>  Prob(JB):          </th>     <td>    0.00</td>    \n",
       "</tr>\n",
       "<tr>\n",
       "  <th>Kurtosis:</th>       <td>1591.002</td>   <th>  Cond. No.          </th>     <td>6.66e+04</td>    \n",
       "</tr>\n",
       "</table><br/><br/>Notes:<br/>[1] Standard Errors assume that the covariance matrix of the errors is correctly specified.<br/>[2] The condition number is large, 6.66e+04. This might indicate that there are<br/>strong multicollinearity or other numerical problems."
      ],
      "text/plain": [
       "<class 'statsmodels.iolib.summary.Summary'>\n",
       "\"\"\"\n",
       "                            OLS Regression Results                            \n",
       "==============================================================================\n",
       "Dep. Variable:                y_child   R-squared:                       0.004\n",
       "Model:                            OLS   Adj. R-squared:                  0.004\n",
       "Method:                 Least Squares   F-statistic:                     3806.\n",
       "Date:                Sun, 08 Aug 2021   Prob (F-statistic):               0.00\n",
       "Time:                        17:19:37   Log-Likelihood:            -5.6544e+06\n",
       "No. Observations:             2100000   AIC:                         1.131e+07\n",
       "Df Residuals:                 2099997   BIC:                         1.131e+07\n",
       "Df Model:                           2                                         \n",
       "Covariance Type:            nonrobust                                         \n",
       "==============================================================================\n",
       "                 coef    std err          t      P>|t|      [0.025      0.975]\n",
       "------------------------------------------------------------------------------\n",
       "Intercept      1.4776      0.013    115.507      0.000       1.452       1.503\n",
       "mj         -1.398e-05   3.73e-07    -37.447      0.000   -1.47e-05   -1.32e-05\n",
       "Gj             0.0167      0.000     57.353      0.000       0.016       0.017\n",
       "==============================================================================\n",
       "Omnibus:                  4669054.004   Durbin-Watson:                   1.986\n",
       "Prob(Omnibus):                  0.000   Jarque-Bera (JB):     220791102184.372\n",
       "Skew:                          19.847   Prob(JB):                         0.00\n",
       "Kurtosis:                    1591.002   Cond. No.                     6.66e+04\n",
       "==============================================================================\n",
       "\n",
       "Notes:\n",
       "[1] Standard Errors assume that the covariance matrix of the errors is correctly specified.\n",
       "[2] The condition number is large, 6.66e+04. This might indicate that there are\n",
       "strong multicollinearity or other numerical problems.\n",
       "\"\"\""
      ]
     },
     "execution_count": 53,
     "metadata": {},
     "output_type": "execute_result"
    }
   ],
   "source": [
    "RL1 = smf.ols(\"y_child ~ mj+Gj\", data=bdd_p7).fit(alpha=alpha)  ;  RL1.summary()"
   ]
  },
  {
   "cell_type": "markdown",
   "metadata": {},
   "source": [
    "Nous obtenons que les 2 pvalues sont de 0 pour chacune des deux variables, ce qui nous conduit à rejeter l'hypothèse $H0$ : Les deux variables mj et Gj sont alors significatives au niveau de test de 5%."
   ]
  },
  {
   "cell_type": "markdown",
   "metadata": {},
   "source": [
    "##### 5.2.2. Après le passage aux logarithmes"
   ]
  },
  {
   "cell_type": "code",
   "execution_count": 54,
   "metadata": {},
   "outputs": [
    {
     "data": {
      "text/html": [
       "<table class=\"simpletable\">\n",
       "<caption>OLS Regression Results</caption>\n",
       "<tr>\n",
       "  <th>Dep. Variable:</th>       <td>ln_y_child</td>    <th>  R-squared:         </th>  <td>   0.620</td>  \n",
       "</tr>\n",
       "<tr>\n",
       "  <th>Model:</th>                   <td>OLS</td>       <th>  Adj. R-squared:    </th>  <td>   0.620</td>  \n",
       "</tr>\n",
       "<tr>\n",
       "  <th>Method:</th>             <td>Least Squares</td>  <th>  F-statistic:       </th>  <td>1.283e+07</td> \n",
       "</tr>\n",
       "<tr>\n",
       "  <th>Date:</th>             <td>Sun, 08 Aug 2021</td> <th>  Prob (F-statistic):</th>   <td>  0.00</td>   \n",
       "</tr>\n",
       "<tr>\n",
       "  <th>Time:</th>                 <td>17:19:41</td>     <th>  Log-Likelihood:    </th> <td>-1.7477e+07</td>\n",
       "</tr>\n",
       "<tr>\n",
       "  <th>No. Observations:</th>     <td>15700000</td>     <th>  AIC:               </th>  <td>3.495e+07</td> \n",
       "</tr>\n",
       "<tr>\n",
       "  <th>Df Residuals:</th>         <td>15699997</td>     <th>  BIC:               </th>  <td>3.495e+07</td> \n",
       "</tr>\n",
       "<tr>\n",
       "  <th>Df Model:</th>              <td>     2</td>      <th>                     </th>      <td> </td>     \n",
       "</tr>\n",
       "<tr>\n",
       "  <th>Covariance Type:</th>      <td>nonrobust</td>    <th>                     </th>      <td> </td>     \n",
       "</tr>\n",
       "</table>\n",
       "<table class=\"simpletable\">\n",
       "<tr>\n",
       "      <td></td>         <th>coef</th>     <th>std err</th>      <th>t</th>      <th>P>|t|</th>  <th>[0.025</th>    <th>0.975]</th>  \n",
       "</tr>\n",
       "<tr>\n",
       "  <th>Intercept</th> <td>    0.4133</td> <td>    0.002</td> <td>  174.244</td> <td> 0.000</td> <td>    0.409</td> <td>    0.418</td>\n",
       "</tr>\n",
       "<tr>\n",
       "  <th>ln_mj</th>     <td>    0.9992</td> <td>    0.000</td> <td> 4413.896</td> <td> 0.000</td> <td>    0.999</td> <td>    1.000</td>\n",
       "</tr>\n",
       "<tr>\n",
       "  <th>Gj</th>        <td>   -0.0183</td> <td> 2.17e-05</td> <td> -843.627</td> <td> 0.000</td> <td>   -0.018</td> <td>   -0.018</td>\n",
       "</tr>\n",
       "</table>\n",
       "<table class=\"simpletable\">\n",
       "<tr>\n",
       "  <th>Omnibus:</th>       <td>1363535.212</td> <th>  Durbin-Watson:     </th>  <td>   0.088</td>  \n",
       "</tr>\n",
       "<tr>\n",
       "  <th>Prob(Omnibus):</th>   <td> 0.000</td>    <th>  Jarque-Bera (JB):  </th> <td>7253649.461</td>\n",
       "</tr>\n",
       "<tr>\n",
       "  <th>Skew:</th>            <td>-0.249</td>    <th>  Prob(JB):          </th>  <td>    0.00</td>  \n",
       "</tr>\n",
       "<tr>\n",
       "  <th>Kurtosis:</th>        <td> 6.292</td>    <th>  Cond. No.          </th>  <td>    501.</td>  \n",
       "</tr>\n",
       "</table><br/><br/>Notes:<br/>[1] Standard Errors assume that the covariance matrix of the errors is correctly specified."
      ],
      "text/plain": [
       "<class 'statsmodels.iolib.summary.Summary'>\n",
       "\"\"\"\n",
       "                            OLS Regression Results                            \n",
       "==============================================================================\n",
       "Dep. Variable:             ln_y_child   R-squared:                       0.620\n",
       "Model:                            OLS   Adj. R-squared:                  0.620\n",
       "Method:                 Least Squares   F-statistic:                 1.283e+07\n",
       "Date:                Sun, 08 Aug 2021   Prob (F-statistic):               0.00\n",
       "Time:                        17:19:41   Log-Likelihood:            -1.7477e+07\n",
       "No. Observations:            15700000   AIC:                         3.495e+07\n",
       "Df Residuals:                15699997   BIC:                         3.495e+07\n",
       "Df Model:                           2                                         \n",
       "Covariance Type:            nonrobust                                         \n",
       "==============================================================================\n",
       "                 coef    std err          t      P>|t|      [0.025      0.975]\n",
       "------------------------------------------------------------------------------\n",
       "Intercept      0.4133      0.002    174.244      0.000       0.409       0.418\n",
       "ln_mj          0.9992      0.000   4413.896      0.000       0.999       1.000\n",
       "Gj            -0.0183   2.17e-05   -843.627      0.000      -0.018      -0.018\n",
       "==============================================================================\n",
       "Omnibus:                  1363535.212   Durbin-Watson:                   0.088\n",
       "Prob(Omnibus):                  0.000   Jarque-Bera (JB):          7253649.461\n",
       "Skew:                          -0.249   Prob(JB):                         0.00\n",
       "Kurtosis:                       6.292   Cond. No.                         501.\n",
       "==============================================================================\n",
       "\n",
       "Notes:\n",
       "[1] Standard Errors assume that the covariance matrix of the errors is correctly specified.\n",
       "\"\"\""
      ]
     },
     "execution_count": 54,
     "metadata": {},
     "output_type": "execute_result"
    }
   ],
   "source": [
    "RL2 = smf.ols(\"ln_y_child ~ ln_mj+Gj\", data=bdd_p7).fit(alpha=alpha)  ;  RL2.summary()"
   ]
  },
  {
   "cell_type": "markdown",
   "metadata": {},
   "source": [
    "Nous obtenons que les 2 pvalues sont de 0 pour chacune des deux variables, ce qui nous conduit à rejeter l'hypothèse $H0$ : Les deux variables mj et Gj sont alors significatives au niveau de test de 5%."
   ]
  },
  {
   "cell_type": "code",
   "execution_count": 55,
   "metadata": {},
   "outputs": [
    {
     "name": "stdout",
     "output_type": "stream",
     "text": [
      "COEFFICIENT DE DÉTERMINATION DE RL1 - SANS PASSER AU LOGARITHME: 0.0036\n",
      "COEFFICIENT DE DÉTERMINATION DE RL2 - EN PASSANT AU LOGARITHME: 0.6205\n"
     ]
    }
   ],
   "source": [
    "# Analyse de la première régression linéaire sans passer au logarithme:\n",
    "print(\"COEFFICIENT DE DÉTERMINATION DE RL1 - SANS PASSER AU LOGARITHME:\", round(RL1.rsquared, 4))\n",
    "# Analyse de la seconde régression linéaire en passant au logarithme:\n",
    "print(\"COEFFICIENT DE DÉTERMINATION DE RL2 - EN PASSANT AU LOGARITHME:\", round(RL2.rsquared, 4))"
   ]
  },
  {
   "cell_type": "markdown",
   "metadata": {},
   "source": [
    "##### 5.2.3. Représentation graphique : droite de Henry"
   ]
  },
  {
   "cell_type": "code",
   "execution_count": 56,
   "metadata": {},
   "outputs": [
    {
     "data": {
      "image/png": "[encoded data removed]",
      "text/plain": [
       "<Figure size 432x360 with 1 Axes>"
      ]
     },
     "metadata": {
      "needs_background": "light"
     },
     "output_type": "display_data"
    }
   ],
   "source": [
    "def analyse_des_residus(MODEL, nom, couleur):\n",
    "    fig, (ax1) = plt.subplots(1, 1, figsize=(6, 5))\n",
    "    residus_henry(MODEL, nom, couleur, ax1)\n",
    "analyse_des_residus(RL1, \"RL1\", \"#6CABE7\") ; plt.show()"
   ]
  },
  {
   "cell_type": "code",
   "execution_count": 57,
   "metadata": {},
   "outputs": [
    {
     "data": {
      "image/png": "[encoded data removed]",
      "text/plain": [
       "<Figure size 432x360 with 1 Axes>"
      ]
     },
     "metadata": {
      "needs_background": "light"
     },
     "output_type": "display_data"
    }
   ],
   "source": [
    "fig, ax = plt.subplots(1, 1, figsize=(6, 5))\n",
    "residus_henry(RL2, \"RL2\", \"#00BAB9\", ax) ; plt.show()"
   ]
  },
  {
   "cell_type": "markdown",
   "metadata": {},
   "source": [
    "Remarque : on observe que les résidus du second modèle (passage aux logarithmes) suivent plus une loi normale que ceux du premier modèle. Le passage aux logarithmes permet donc d'avoir un modèle plus viable."
   ]
  },
  {
   "cell_type": "markdown",
   "metadata": {},
   "source": [
    "#### 5.3. Regression linéaire : revenu moyen, indice de Gini et classe de revenu des parents"
   ]
  },
  {
   "cell_type": "code",
   "execution_count": 58,
   "metadata": {},
   "outputs": [
    {
     "data": {
      "text/html": [
       "<table class=\"simpletable\">\n",
       "<caption>OLS Regression Results</caption>\n",
       "<tr>\n",
       "  <th>Dep. Variable:</th>       <td>ln_y_child</td>    <th>  R-squared:         </th>  <td>   0.620</td>  \n",
       "</tr>\n",
       "<tr>\n",
       "  <th>Model:</th>                   <td>OLS</td>       <th>  Adj. R-squared:    </th>  <td>   0.620</td>  \n",
       "</tr>\n",
       "<tr>\n",
       "  <th>Method:</th>             <td>Least Squares</td>  <th>  F-statistic:       </th>  <td>8.556e+06</td> \n",
       "</tr>\n",
       "<tr>\n",
       "  <th>Date:</th>             <td>Sun, 08 Aug 2021</td> <th>  Prob (F-statistic):</th>   <td>  0.00</td>   \n",
       "</tr>\n",
       "<tr>\n",
       "  <th>Time:</th>                 <td>17:20:04</td>     <th>  Log-Likelihood:    </th> <td>-1.7477e+07</td>\n",
       "</tr>\n",
       "<tr>\n",
       "  <th>No. Observations:</th>     <td>15700000</td>     <th>  AIC:               </th>  <td>3.495e+07</td> \n",
       "</tr>\n",
       "<tr>\n",
       "  <th>Df Residuals:</th>         <td>15699996</td>     <th>  BIC:               </th>  <td>3.496e+07</td> \n",
       "</tr>\n",
       "<tr>\n",
       "  <th>Df Model:</th>              <td>     3</td>      <th>                     </th>      <td> </td>     \n",
       "</tr>\n",
       "<tr>\n",
       "  <th>Covariance Type:</th>      <td>nonrobust</td>    <th>                     </th>      <td> </td>     \n",
       "</tr>\n",
       "</table>\n",
       "<table class=\"simpletable\">\n",
       "<tr>\n",
       "       <td></td>         <th>coef</th>     <th>std err</th>      <th>t</th>      <th>P>|t|</th>  <th>[0.025</th>    <th>0.975]</th>  \n",
       "</tr>\n",
       "<tr>\n",
       "  <th>Intercept</th>  <td>    0.4132</td> <td>    0.002</td> <td>  172.562</td> <td> 0.000</td> <td>    0.408</td> <td>    0.418</td>\n",
       "</tr>\n",
       "<tr>\n",
       "  <th>ln_mj</th>      <td>    0.9992</td> <td>    0.000</td> <td> 4413.896</td> <td> 0.000</td> <td>    0.999</td> <td>    1.000</td>\n",
       "</tr>\n",
       "<tr>\n",
       "  <th>Gj</th>         <td>   -0.0183</td> <td> 2.17e-05</td> <td> -843.627</td> <td> 0.000</td> <td>   -0.018</td> <td>   -0.018</td>\n",
       "</tr>\n",
       "<tr>\n",
       "  <th>c_i_parent</th> <td> 2.544e-06</td> <td> 6.44e-06</td> <td>    0.395</td> <td> 0.693</td> <td>-1.01e-05</td> <td> 1.52e-05</td>\n",
       "</tr>\n",
       "</table>\n",
       "<table class=\"simpletable\">\n",
       "<tr>\n",
       "  <th>Omnibus:</th>       <td>1363534.949</td> <th>  Durbin-Watson:     </th>  <td>   0.088</td>  \n",
       "</tr>\n",
       "<tr>\n",
       "  <th>Prob(Omnibus):</th>   <td> 0.000</td>    <th>  Jarque-Bera (JB):  </th> <td>7253644.750</td>\n",
       "</tr>\n",
       "<tr>\n",
       "  <th>Skew:</th>            <td>-0.249</td>    <th>  Prob(JB):          </th>  <td>    0.00</td>  \n",
       "</tr>\n",
       "<tr>\n",
       "  <th>Kurtosis:</th>        <td> 6.292</td>    <th>  Cond. No.          </th>  <td>    876.</td>  \n",
       "</tr>\n",
       "</table><br/><br/>Notes:<br/>[1] Standard Errors assume that the covariance matrix of the errors is correctly specified."
      ],
      "text/plain": [
       "<class 'statsmodels.iolib.summary.Summary'>\n",
       "\"\"\"\n",
       "                            OLS Regression Results                            \n",
       "==============================================================================\n",
       "Dep. Variable:             ln_y_child   R-squared:                       0.620\n",
       "Model:                            OLS   Adj. R-squared:                  0.620\n",
       "Method:                 Least Squares   F-statistic:                 8.556e+06\n",
       "Date:                Sun, 08 Aug 2021   Prob (F-statistic):               0.00\n",
       "Time:                        17:20:04   Log-Likelihood:            -1.7477e+07\n",
       "No. Observations:            15700000   AIC:                         3.495e+07\n",
       "Df Residuals:                15699996   BIC:                         3.496e+07\n",
       "Df Model:                           3                                         \n",
       "Covariance Type:            nonrobust                                         \n",
       "==============================================================================\n",
       "                 coef    std err          t      P>|t|      [0.025      0.975]\n",
       "------------------------------------------------------------------------------\n",
       "Intercept      0.4132      0.002    172.562      0.000       0.408       0.418\n",
       "ln_mj          0.9992      0.000   4413.896      0.000       0.999       1.000\n",
       "Gj            -0.0183   2.17e-05   -843.627      0.000      -0.018      -0.018\n",
       "c_i_parent  2.544e-06   6.44e-06      0.395      0.693   -1.01e-05    1.52e-05\n",
       "==============================================================================\n",
       "Omnibus:                  1363534.949   Durbin-Watson:                   0.088\n",
       "Prob(Omnibus):                  0.000   Jarque-Bera (JB):          7253644.750\n",
       "Skew:                          -0.249   Prob(JB):                         0.00\n",
       "Kurtosis:                       6.292   Cond. No.                         876.\n",
       "==============================================================================\n",
       "\n",
       "Notes:\n",
       "[1] Standard Errors assume that the covariance matrix of the errors is correctly specified.\n",
       "\"\"\""
      ]
     },
     "execution_count": 58,
     "metadata": {},
     "output_type": "execute_result"
    }
   ],
   "source": [
    "RL3= smf.ols(\"ln_y_child ~ ln_mj+Gj+c_i_parent\", data=bdd_p7).fit(alpha=alpha) ; RL3.summary()"
   ]
  },
  {
   "cell_type": "markdown",
   "metadata": {},
   "source": [
    "La variance expliquée est la même que précédemment, qu'on ajoute c_i_parent ou non."
   ]
  },
  {
   "cell_type": "markdown",
   "metadata": {},
   "source": [
    "##### 5.3.1. Représentation graphique : droite de Henry"
   ]
  },
  {
   "cell_type": "code",
   "execution_count": 59,
   "metadata": {},
   "outputs": [
    {
     "data": {
      "image/png": "[encoded data removed]",
      "text/plain": [
       "<Figure size 432x360 with 1 Axes>"
      ]
     },
     "metadata": {
      "needs_background": "light"
     },
     "output_type": "display_data"
    }
   ],
   "source": [
    "fig, ax = plt.subplots(1, 1, figsize=(6, 5))\n",
    "residus_henry(RL3, \"RL3\", \"#D8CC46\", ax) ; plt.show()"
   ]
  },
  {
   "cell_type": "markdown",
   "metadata": {},
   "source": [
    "Remarque : le passage des variables aux logarithmes permettent d'avoir un modèle plus pertinent car la distribution se rapproche d'une distribution gaussienne, condition à valider pour accèder une regression linéaire."
   ]
  },
  {
   "cell_type": "markdown",
   "metadata": {},
   "source": [
    "#### 5.4. Regression linéaire : ajout des variables restantes"
   ]
  },
  {
   "cell_type": "code",
   "execution_count": 60,
   "metadata": {},
   "outputs": [
    {
     "data": {
      "text/html": [
       "<table class=\"simpletable\">\n",
       "<caption>OLS Regression Results</caption>\n",
       "<tr>\n",
       "  <th>Dep. Variable:</th>       <td>ln_y_child</td>    <th>  R-squared:         </th>  <td>   0.622</td>  \n",
       "</tr>\n",
       "<tr>\n",
       "  <th>Model:</th>                   <td>OLS</td>       <th>  Adj. R-squared:    </th>  <td>   0.622</td>  \n",
       "</tr>\n",
       "<tr>\n",
       "  <th>Method:</th>             <td>Least Squares</td>  <th>  F-statistic:       </th>  <td>6.904e+05</td> \n",
       "</tr>\n",
       "<tr>\n",
       "  <th>Date:</th>             <td>Sun, 08 Aug 2021</td> <th>  Prob (F-statistic):</th>   <td>  0.00</td>   \n",
       "</tr>\n",
       "<tr>\n",
       "  <th>Time:</th>                 <td>17:20:21</td>     <th>  Log-Likelihood:    </th> <td>-2.2894e+06</td>\n",
       "</tr>\n",
       "<tr>\n",
       "  <th>No. Observations:</th>      <td>2100000</td>     <th>  AIC:               </th>  <td>4.579e+06</td> \n",
       "</tr>\n",
       "<tr>\n",
       "  <th>Df Residuals:</th>          <td>2099994</td>     <th>  BIC:               </th>  <td>4.579e+06</td> \n",
       "</tr>\n",
       "<tr>\n",
       "  <th>Df Model:</th>              <td>     5</td>      <th>                     </th>      <td> </td>     \n",
       "</tr>\n",
       "<tr>\n",
       "  <th>Covariance Type:</th>      <td>nonrobust</td>    <th>                     </th>      <td> </td>     \n",
       "</tr>\n",
       "</table>\n",
       "<table class=\"simpletable\">\n",
       "<tr>\n",
       "          <td></td>            <th>coef</th>     <th>std err</th>      <th>t</th>      <th>P>|t|</th>  <th>[0.025</th>    <th>0.975]</th>  \n",
       "</tr>\n",
       "<tr>\n",
       "  <th>Intercept</th>        <td>    0.3266</td> <td>    0.008</td> <td>   39.740</td> <td> 0.000</td> <td>    0.311</td> <td>    0.343</td>\n",
       "</tr>\n",
       "<tr>\n",
       "  <th>ln_mj</th>            <td>    1.0089</td> <td>    0.001</td> <td> 1454.857</td> <td> 0.000</td> <td>    1.008</td> <td>    1.010</td>\n",
       "</tr>\n",
       "<tr>\n",
       "  <th>Gj</th>               <td>   -0.0188</td> <td> 7.14e-05</td> <td> -262.933</td> <td> 0.000</td> <td>   -0.019</td> <td>   -0.019</td>\n",
       "</tr>\n",
       "<tr>\n",
       "  <th>c_i_parent</th>       <td> 8.747e-06</td> <td> 8.09e-05</td> <td>    0.108</td> <td> 0.914</td> <td>   -0.000</td> <td>    0.000</td>\n",
       "</tr>\n",
       "<tr>\n",
       "  <th>ln_y_parent</th>      <td>  6.32e-05</td> <td>    0.002</td> <td>    0.027</td> <td> 0.978</td> <td>   -0.005</td> <td>    0.005</td>\n",
       "</tr>\n",
       "<tr>\n",
       "  <th>coeff_elasticite</th> <td>    0.0248</td> <td>    0.003</td> <td>    8.612</td> <td> 0.000</td> <td>    0.019</td> <td>    0.030</td>\n",
       "</tr>\n",
       "</table>\n",
       "<table class=\"simpletable\">\n",
       "<tr>\n",
       "  <th>Omnibus:</th>       <td>251761.620</td> <th>  Durbin-Watson:     </th>  <td>   0.423</td>  \n",
       "</tr>\n",
       "<tr>\n",
       "  <th>Prob(Omnibus):</th>   <td> 0.000</td>   <th>  Jarque-Bera (JB):  </th> <td>1700650.264</td>\n",
       "</tr>\n",
       "<tr>\n",
       "  <th>Skew:</th>            <td>-0.376</td>   <th>  Prob(JB):          </th>  <td>    0.00</td>  \n",
       "</tr>\n",
       "<tr>\n",
       "  <th>Kurtosis:</th>        <td> 7.344</td>   <th>  Cond. No.          </th>  <td>1.13e+03</td>  \n",
       "</tr>\n",
       "</table><br/><br/>Notes:<br/>[1] Standard Errors assume that the covariance matrix of the errors is correctly specified.<br/>[2] The condition number is large, 1.13e+03. This might indicate that there are<br/>strong multicollinearity or other numerical problems."
      ],
      "text/plain": [
       "<class 'statsmodels.iolib.summary.Summary'>\n",
       "\"\"\"\n",
       "                            OLS Regression Results                            \n",
       "==============================================================================\n",
       "Dep. Variable:             ln_y_child   R-squared:                       0.622\n",
       "Model:                            OLS   Adj. R-squared:                  0.622\n",
       "Method:                 Least Squares   F-statistic:                 6.904e+05\n",
       "Date:                Sun, 08 Aug 2021   Prob (F-statistic):               0.00\n",
       "Time:                        17:20:21   Log-Likelihood:            -2.2894e+06\n",
       "No. Observations:             2100000   AIC:                         4.579e+06\n",
       "Df Residuals:                 2099994   BIC:                         4.579e+06\n",
       "Df Model:                           5                                         \n",
       "Covariance Type:            nonrobust                                         \n",
       "====================================================================================\n",
       "                       coef    std err          t      P>|t|      [0.025      0.975]\n",
       "------------------------------------------------------------------------------------\n",
       "Intercept            0.3266      0.008     39.740      0.000       0.311       0.343\n",
       "ln_mj                1.0089      0.001   1454.857      0.000       1.008       1.010\n",
       "Gj                  -0.0188   7.14e-05   -262.933      0.000      -0.019      -0.019\n",
       "c_i_parent        8.747e-06   8.09e-05      0.108      0.914      -0.000       0.000\n",
       "ln_y_parent        6.32e-05      0.002      0.027      0.978      -0.005       0.005\n",
       "coeff_elasticite     0.0248      0.003      8.612      0.000       0.019       0.030\n",
       "==============================================================================\n",
       "Omnibus:                   251761.620   Durbin-Watson:                   0.423\n",
       "Prob(Omnibus):                  0.000   Jarque-Bera (JB):          1700650.264\n",
       "Skew:                          -0.376   Prob(JB):                         0.00\n",
       "Kurtosis:                       7.344   Cond. No.                     1.13e+03\n",
       "==============================================================================\n",
       "\n",
       "Notes:\n",
       "[1] Standard Errors assume that the covariance matrix of the errors is correctly specified.\n",
       "[2] The condition number is large, 1.13e+03. This might indicate that there are\n",
       "strong multicollinearity or other numerical problems.\n",
       "\"\"\""
      ]
     },
     "execution_count": 60,
     "metadata": {},
     "output_type": "execute_result"
    }
   ],
   "source": [
    "RL4=smf.ols(\"ln_y_child ~ ln_mj+Gj+c_i_parent+ln_y_parent+coeff_elasticite\", data=bdd_p7).fit(alpha=alpha) ; RL4.summary()"
   ]
  },
  {
   "cell_type": "code",
   "execution_count": 61,
   "metadata": {},
   "outputs": [
    {
     "name": "stdout",
     "output_type": "stream",
     "text": [
      "Ce nouveau modèle explique environ 62.18 % de la variance de la variable \"ln_y_child\"\n"
     ]
    }
   ],
   "source": [
    "print(\"Ce nouveau modèle explique environ\", round(100*RL4.rsquared, 2), '% de la variance de la variable \"ln_y_child\"')"
   ]
  },
  {
   "cell_type": "markdown",
   "metadata": {},
   "source": [
    "##### 5.4.1. Représentation graphique : droite de Henry"
   ]
  },
  {
   "cell_type": "code",
   "execution_count": 62,
   "metadata": {},
   "outputs": [
    {
     "data": {
      "image/png": "[encoded data removed]",
      "text/plain": [
       "<Figure size 432x360 with 1 Axes>"
      ]
     },
     "metadata": {
      "needs_background": "light"
     },
     "output_type": "display_data"
    }
   ],
   "source": [
    "analyse_des_residus(RL4, \"RL4\", \"#EEC5A9\") ; plt.show()"
   ]
  },
  {
   "cell_type": "markdown",
   "metadata": {},
   "source": [
    "Remarque : on observe là aussi une distribution proche d'une loi normale"
   ]
  },
  {
   "cell_type": "markdown",
   "metadata": {},
   "source": [
    "________________"
   ]
  },
  {
   "cell_type": "markdown",
   "metadata": {},
   "source": [
    "### 6. Conclusion"
   ]
  },
  {
   "cell_type": "markdown",
   "metadata": {},
   "source": [
    "Pour accepter une regression linéaire, et ainsi observer des relations entre nos variables, les residus doivent suivre une loi normale. Le passage aux logarithmes nous a permis d'avoir des modèles fiables puisque ce passage permet de se rapprocher d'une distribution normale.  \n",
    "A la suite de nos modèles, on peut donc conclure que le revenu d'un individu dépend du revenu moyen de son origine. Cela a été expliqué à hauteur de 62% par l'analyse de la variance. Le reste, à savoir 38%, est expliqué par des facteurs extérieurs non considérés par le modèle comme la chance et les efforts, par exemple. D'autres facteurs peuvent expliquer le revenu d'un individu et peuvent améliorer notre modèle (niveau d'études, sexe, classe sociale etc.)."
   ]
  },
  {
   "cell_type": "code",
   "execution_count": 63,
   "metadata": {},
   "outputs": [
    {
     "data": {
      "image/png": "[encoded data removed]",
      "text/plain": [
       "<Figure size 576x432 with 2 Axes>"
      ]
     },
     "metadata": {
      "needs_background": "light"
     },
     "output_type": "display_data"
    }
   ],
   "source": [
    "# Observation de corrélation entre le revenu et l'indice de Gini des pays\n",
    "correlation_matrix = bdd_p7[['ln_y_child', 'Gj']].corr()\n",
    "mask = np.triu(np.ones_like(correlation_matrix, dtype=np.bool))\n",
    "plt.figure(figsize=(8, 6))\n",
    "sns.heatmap(correlation_matrix, mask=mask, annot=True, cmap='viridis')\n",
    "\n",
    "plt.title(\"Corrélation entre l'indice de Gini et le revenu\", size=20)\n",
    "\n",
    "plt.savefig(\"/Users/anissa/09_Corrélation entre l'indice de Gini et le revenu.jpg\", dpi=1200)\n",
    "plt.show()"
   ]
  },
  {
   "cell_type": "markdown",
   "metadata": {},
   "source": [
    "On observe une corrélation négative entre les deux variables les plus explicatives : _plus l'indice de Gini est bas, plus le revenu moyen a tendance à être haut_."
   ]
  }
 ],
 "metadata": {
  "kernelspec": {
   "display_name": "Python 3",
   "language": "python",
   "name": "python3"
  },
  "language_info": {
   "codemirror_mode": {
    "name": "ipython",
    "version": 3
   },
   "file_extension": ".py",
   "mimetype": "text/x-python",
   "name": "python",
   "nbconvert_exporter": "python",
   "pygments_lexer": "ipython3",
   "version": "3.8.5"
  }
 },
 "nbformat": 4,
 "nbformat_minor": 4
}
